{
 "cells": [
  {
   "cell_type": "code",
   "execution_count": 49,
   "id": "38ff8ca8-d324-4880-8e3e-6ae3c9e2f222",
   "metadata": {},
   "outputs": [],
   "source": [
    "import pandas as pd\n",
    "import os\n",
    "import requests\n",
    "from bs4 import BeautifulSoup\n",
    "import re\n",
    "from newspaper import Article"
   ]
  },
  {
   "cell_type": "code",
   "execution_count": 23,
   "id": "4b3b7af7-216f-4543-b28a-8f1fb5a63510",
   "metadata": {},
   "outputs": [],
   "source": [
    "def f(l):\n",
    "    n = []\n",
    "    for i in l:\n",
    "        if i not in n:\n",
    "            n.append(i)\n",
    "    return n"
   ]
  },
  {
   "cell_type": "code",
   "execution_count": 24,
   "id": "fd05ab4b-1dc8-40b6-b44c-729f6f30c05c",
   "metadata": {},
   "outputs": [],
   "source": [
    "def get_html(url):\n",
    "    r = requests.get(url)\n",
    "    return r.text"
   ]
  },
  {
   "cell_type": "code",
   "execution_count": 25,
   "id": "ce16a14c-e042-4c95-83ff-c5411fdd5f04",
   "metadata": {},
   "outputs": [],
   "source": [
    "def get_links(html):  \n",
    "    soup = BeautifulSoup(html, 'lxml') \n",
    "    links_for_texts = soup.find_all('td', class_=\"list-title\")\n",
    "    hrefs = []\n",
    "    for link in links_for_texts:\n",
    "        hrefs.append(link.get('href'))\n",
    "    return hrefs"
   ]
  },
  {
   "cell_type": "code",
   "execution_count": 26,
   "id": "70d4eabd-bcaa-436f-aeac-a9e04d9da33e",
   "metadata": {},
   "outputs": [],
   "source": [
    "def get_all_links(html):\n",
    "    all_links = []\n",
    "    initial_link = 'https://www.ielts-mentor.com'\n",
    "    html = get_html(html)    \n",
    "    soup = BeautifulSoup(html, 'lxml') \n",
    "    links_for_texts = soup.find_all('td', class_=\"list-title\")\n",
    "    for link in links_for_texts:\n",
    "        all_links.append(initial_link + (link.find('a').get('href')))\n",
    "    return all_links       "
   ]
  },
  {
   "cell_type": "code",
   "execution_count": 27,
   "id": "210e155d-6022-401f-916b-6492d10fae31",
   "metadata": {
    "tags": []
   },
   "outputs": [],
   "source": [
    "pages_with_texts = [\"https://www.ielts-mentor.com/reading-sample/academic-reading\",\"https://www.ielts-mentor.com/reading-sample/academic-reading?start=20\", \"https://www.ielts-mentor.com/reading-sample/academic-reading?start=40\", \"https://www.ielts-mentor.com/reading-sample/academic-reading?start=60\", \"https://www.ielts-mentor.com/reading-sample/academic-reading?start=80\", \"https://www.ielts-mentor.com/reading-sample/academic-reading?start=100\", \"https://www.ielts-mentor.com/reading-sample/academic-reading?start=120\", \"https://www.ielts-mentor.com/reading-sample/academic-reading?start=140\", \"https://www.ielts-mentor.com/reading-sample/academic-reading?start=160\", \"https://www.ielts-mentor.com/reading-sample/academic-reading?start=180\", \"https://www.ielts-mentor.com/reading-sample/academic-reading?start=200\", \"https://www.ielts-mentor.com/reading-sample/academic-reading?start=220\", \"https://www.ielts-mentor.com/reading-sample/academic-reading?start=240\", \"https://www.ielts-mentor.com/reading-sample/academic-reading?start=260\", \"https://www.ielts-mentor.com/reading-sample/academic-reading?start=280\", \"https://www.ielts-mentor.com/reading-sample/academic-reading?start=300\", \"https://www.ielts-mentor.com/reading-sample/academic-reading?start=320\"]\n",
    "all_the_links = []\n",
    "for links in pages_with_texts:\n",
    "    all_the_links.append(get_all_links(links))"
   ]
  },
  {
   "cell_type": "code",
   "execution_count": 28,
   "id": "1e093305-21d5-4833-9c9c-e898ae5227f4",
   "metadata": {},
   "outputs": [],
   "source": [
    "all_unique_links = []\n",
    "for i in all_the_links:\n",
    "    for j in i:\n",
    "        all_unique_links.append(j)\n",
    "        "
   ]
  },
  {
   "cell_type": "markdown",
   "id": "fad07729-5c62-4bd4-a0fa-7e373737152e",
   "metadata": {},
   "source": [
    "Все ссылки с текстами (340): all_unique_links"
   ]
  },
  {
   "cell_type": "markdown",
   "id": "2fa54b9d-fcaf-408d-ae62-3f9350118b7a",
   "metadata": {},
   "source": [
    "Код для текста"
   ]
  },
  {
   "cell_type": "code",
   "execution_count": 21,
   "id": "15ec2ccb-68df-49ef-bafb-312e0526d0ce",
   "metadata": {
    "collapsed": true,
    "jupyter": {
     "outputs_hidden": true
    },
    "tags": []
   },
   "outputs": [
    {
     "name": "stdout",
     "output_type": "stream",
     "text": [
      "\n",
      "\n",
      "\n",
      "\n",
      "Questions 14-18\n",
      "\n",
      "Reading passage 8 has six paragraphs B-F from the list of headings below Choose the most suitable headings for paragraphs B-F from the list of headings belowWrite the appropriate numbers (i-ix) in boxes 14-18 on your answer sheet\n",
      "\n",
      "NB There are more headings than paragraphs, so you will not use them all\n",
      "\n",
      "\n",
      "\n",
      "List of Headings\n",
      "\n",
      "i) Ottawa International Conference on Health Promotion\n",
      "\n",
      "ii) Holistic approach to health\n",
      "\n",
      "iii) The primary importance of environmental factors\n",
      "\n",
      "iv) Healthy lifestyles approach to health\n",
      "\n",
      "v) Changes in concepts of health in Western society\n",
      "\n",
      "vi) Prevention of diseases and illness\n",
      "\n",
      "vii) Ottawa Charter for Health Promotion\n",
      "\n",
      "viii) Definition of health in medical terms\n",
      "\n",
      "ix) Socio-ecological view of health\n",
      "\n",
      "\n",
      "\n",
      "14. Paragraph B\n",
      "\n",
      "15. Paragraph C\n",
      "\n",
      "16. Paragraph D\n",
      "\n",
      "17. Paragraph E\n",
      "\n",
      "18. Paragraph F\n",
      "\n",
      "\n",
      "\n",
      "\n",
      "\n",
      "Changing Our Understanding of Health A\n",
      "\n",
      "The concept of health holds different meanings for different people and groups. These meanings of health have also changed over time. This change is no more evident than in Western society today, when notions of health and health promotion are being challenged and expanded in new ways\n",
      "\n",
      "B\n",
      "\n",
      "For much of recent Western history, health has been viewed in the physical sense only. That is, good health has been connected to the smooth mechanical operation of the body, while ill health has been attributed to a breakdown in this machine. Health in this sense has been defined as the absence of disease or illness and is seen in medical terms. According to this view, creating health for people means providing medical care to treat or prevent disease and illness. During this period, there was an emphasis on providing clean water, improved sanitation and housing\n",
      "\n",
      "C\n",
      "\n",
      "In the late 1940s the World Health Organisation challenged this physically and medically oriented view of health. They stated that 'health is a complete state of physical, mental and social well-being and is not merely the absence of disease' (WHO, 1946). Health and the person were seen more holistically (mind/body/spirit) and not just in physical terms\n",
      "\n",
      "D\n",
      "\n",
      "The 1970s was a time of focusing on the prevention of disease and illness by emphasising the importance of the lifestyle and behaviour of the individual. Specific behaviours which were seen to increase the risk of diseases, such as smoking, lack of fitness and unhealthy eating habits, were targeted. Creating health meant providing not only medical health care, but health promotion programs and policies which would help people maintain healthy behaviours and lifestyles. While this individualistic healthy lifestyle approach to health worked for some (the wealthy members of society), people experiencing poverty, unemployment, underemployment or little control over the conditions of their daily lives benefited little from this approach. This was largely because both the healthy lifestyles approach and the medical approach to health largely ignored the social and environmental conditions affecting the health of people\n",
      "\n",
      "E\n",
      "\n",
      "During 1980s and 1990s there has been a growing swing away from seeing lifestyle risks as the root cause of poor health. While lifestyle factors still remain important, health is being viewed also in terms of the social, economic and environmental contexts in which people live. This broad approach to health is called the socio-ecological view of health. The broad socio-ecological view of health was endorsed at the first International Conference of Health Promotion held in 1986, Ottawa, Canada, where people from 38 countries agreed and declared that: The fundamental conditions and resources for health are peace, shelter, education, food, a viable income, a stable eco-system, sustainable resources, social justice and equity. Improvement in health requires a secure foundation in these basic requirements. (WHO, 1986) \n",
      "\n",
      "It is clear from this statement that the creation of health is about much more than encouraging healthy individual behaviours and lifestyles and providing appropriate medical care. Therefore, the creation of health must include addressing issues such as poverty, pollution, urbanisation, natural resource depletion, social alienation and poor working conditions. The social, economic and environmental contexts which contribute to the creation of health do not operate separately or independently of each other. Rather, they are interacting and interdependent, and it is the complex interrelationships between them which determine the conditions that promote health. A broad socio-ecological view of health suggests that the promotion of health must include a strong social, economic and environmental focus\n",
      "\n",
      "F\n",
      "\n",
      "At the Ottawa Conference in 1986, a charter was developed which outlined new directions for health promotion based on the socio-ecological view of health. This charter, known as the Ottawa Charter for Health Promotion, remains as the backbone of health action today. In exploring the scope of health promotion it states that: Good health is a major resource for social, economic and personal development and an important dimension of quality of life. Political, economic, social, cultural, environmental, behavioural and biological factors can all favour health or be harmful to it. (WHO, 1986) . The Ottawa Charter brings practical meaning and action to this broad notion of health promotion. It presents fundamental strategies and approaches in achieving health for all. The overall philosophy of health promotion which guides these fundamental strategies and approaches is one of 'enabling people to increase control over and to improve their health' (WHO, 1986)Questions 19-22\n",
      "\n",
      "Using NO MORE THAN THREE WORDS from the passage, answer the following questions\n",
      "\n",
      "Write your answers in boxes 19-22 on your answer sheet\n",
      "\n",
      "19. In which year did the World Health Organization define health in terms of mental, physical and social well-being?\n",
      "\n",
      "20. Which members of society benefited most from the healthy lifestyles approach to health?\n",
      "\n",
      "21. Name the three broad areas which relate to people's health, according to the socio-ecological view of health22. During which decade were lifestyle risks seen as the major contributors to poor health?\n",
      "\n",
      "Questions 23-27\n",
      "\n",
      "Do the following statements agree with the information in Reading Passage 8?\n",
      "\n",
      "In boxes 23-27 on your answer sheet write\n",
      "\n",
      "YES if the statement agrees with the informationNO if the statement contradicts the informationNOT GIVEN if there is no information on this in the passage\n",
      "\n",
      "23 Doctors have been instrumental in improving living standards in Western society24 The approach to health during the 1970s included the introduction of health awareness programs25 The socio-ecological view of health recognises that lifestyle habits and the provision of adequate health care are critical factors governing health26 The principles of the Ottawa Charter are considered to be out of date in the 1990s27 In recent years a number of additional countries have subscribed to the Ottawa Charter\n",
      "\n",
      "Click the button to Show/ Hide Answers Answer:\n",
      "\n",
      "14. viii\n",
      "\n",
      "15. ii\n",
      "\n",
      "16. iv\n",
      "\n",
      "17. ix\n",
      "\n",
      "18. vii\n",
      "\n",
      "19. 1946\n",
      "\n",
      "20. (the) wealthy (members) (of) (society)\n",
      "\n",
      "21. social, economic, environmental\n",
      "\n",
      "22. (the) 1970s\n",
      "\n",
      "23. NOT GIVEN\n",
      "\n",
      "24. YES\n",
      "\n",
      "25. NO\n",
      "\n",
      "26. NO\n",
      "\n",
      "27. NOT GIVEN Show/ Hide Answers\n"
     ]
    }
   ],
   "source": [
    "from newspaper import Article\n",
    "def get_text_with_staff(url):\n",
    "    a = Article(url)\n",
    "    a.download()\n",
    "    a.parse()\n",
    "    text = a.text\n",
    "    uncleaned_text = re.split(r'based on Reading Passage \\d below:|\\.\\n\\n', text, maxsplit=0)\n",
    "    ncleaned_text = ''.join(uncleaned_text[1:])\n",
    "    # return ncleaned_text\n",
    "    \n",
    "texts = [get_text_with_staff(url) for url in all_unique_links[4:7]]   \n",
    "print(texts[2])"
   ]
  },
  {
   "cell_type": "markdown",
   "id": "62be4127-ad5b-4ac9-8550-79b0ae578bfe",
   "metadata": {},
   "source": [
    "Текст с заголовком"
   ]
  },
  {
   "cell_type": "code",
   "execution_count": 81,
   "id": "445af9db-5779-4dbe-9c36-a6c134f16236",
   "metadata": {},
   "outputs": [],
   "source": [
    "def collecting_the_corpus(url):\n",
    "    # text_with_staf\n",
    "    a = Article(url)\n",
    "    a.download()\n",
    "    a.parse()\n",
    "    text = a.text\n",
    "    uncleaned_text = re.split(r'based on Reading Passage \\d* below:|\\.\\n\\n', text)\n",
    "    ncleaned_text = ''.join(uncleaned_text[1:])\n",
    "    # text\n",
    "    choose_the = \"Choose the correct letter\"\n",
    "    questions = \"Questions \"\n",
    "    if choose_the in ncleaned_text:\n",
    "        cleaned_text = re.split(choose_the, ncleaned_text)\n",
    "        text_with_title = cleaned_text[0]\n",
    "        return text_with_title\n",
    "    else:\n",
    "        cleaned_text = re.split(questions, ncleaned_text)\n",
    "        text_with_title = cleaned_text[0]\n",
    "        return text_with_title"
   ]
  },
  {
   "cell_type": "code",
   "execution_count": 79,
   "id": "673ee406-5146-4338-b733-a0b6ef58bdb4",
   "metadata": {},
   "outputs": [],
   "source": [
    "r1 = [collecting_the_corpus(url) for url in all_unique_links[:25]]"
   ]
  },
  {
   "cell_type": "code",
   "execution_count": 85,
   "id": "6c2f2f86-b118-464a-9ec9-a216155ab765",
   "metadata": {
    "tags": []
   },
   "outputs": [],
   "source": [
    "r2 = [collecting_the_corpus(url) for url in all_unique_links[25:30]]"
   ]
  },
  {
   "cell_type": "code",
   "execution_count": 86,
   "id": "37761648-f8ac-4b61-acdb-6111ee3a137e",
   "metadata": {},
   "outputs": [],
   "source": [
    "r16 = [collecting_the_corpus(url) for url in all_unique_links[30:35]]"
   ]
  },
  {
   "cell_type": "code",
   "execution_count": 87,
   "id": "d3ceb26d-a7eb-41ee-a96c-1315a8be81c7",
   "metadata": {},
   "outputs": [],
   "source": [
    "r15 = [collecting_the_corpus(url) for url in all_unique_links[35:50]]"
   ]
  },
  {
   "cell_type": "code",
   "execution_count": 88,
   "id": "ea8eba48-d0c6-4461-b210-72bc199b2c13",
   "metadata": {},
   "outputs": [],
   "source": [
    "r3 = [collecting_the_corpus(url) for url in all_unique_links[50:75]]"
   ]
  },
  {
   "cell_type": "code",
   "execution_count": 89,
   "id": "35fed4a0-cb06-4cae-9ab3-ebb3375109ec",
   "metadata": {},
   "outputs": [],
   "source": [
    "r4 = [collecting_the_corpus(url) for url in all_unique_links[75:100]]"
   ]
  },
  {
   "cell_type": "code",
   "execution_count": 90,
   "id": "99499947-3a98-4651-bb4a-10d43852b1e0",
   "metadata": {},
   "outputs": [],
   "source": [
    "r5 = [collecting_the_corpus(url) for url in all_unique_links[100:125]]"
   ]
  },
  {
   "cell_type": "code",
   "execution_count": 92,
   "id": "629105a7-516c-4b3f-ba38-eaf106f8fcd5",
   "metadata": {},
   "outputs": [],
   "source": [
    "r6 = [collecting_the_corpus(url) for url in all_unique_links[125:135]]"
   ]
  },
  {
   "cell_type": "code",
   "execution_count": 93,
   "id": "ebf2fdeb-fff9-486b-b03f-78f1aad173c8",
   "metadata": {},
   "outputs": [],
   "source": [
    "r17 = [collecting_the_corpus(url) for url in all_unique_links[135:150]]"
   ]
  },
  {
   "cell_type": "code",
   "execution_count": 94,
   "id": "1ef3e383-89b5-4e18-860a-f1bde4269cc2",
   "metadata": {},
   "outputs": [],
   "source": [
    "r7 = [collecting_the_corpus(url) for url in all_unique_links[150:175]]"
   ]
  },
  {
   "cell_type": "code",
   "execution_count": 95,
   "id": "d76560ba-16ef-4435-893a-543ef1322ee9",
   "metadata": {},
   "outputs": [],
   "source": [
    "r8 = [collecting_the_corpus(url) for url in all_unique_links[150:175]]"
   ]
  },
  {
   "cell_type": "code",
   "execution_count": 96,
   "id": "e2b7ae28-fee0-44d7-b191-20172c6d0e92",
   "metadata": {},
   "outputs": [],
   "source": [
    "r9 = [collecting_the_corpus(url) for url in all_unique_links[175:200]]"
   ]
  },
  {
   "cell_type": "code",
   "execution_count": 97,
   "id": "4218bb05-cd06-4d4c-bd53-64eb83c04a36",
   "metadata": {},
   "outputs": [],
   "source": [
    "r10 = [collecting_the_corpus(url) for url in all_unique_links[200:225]]"
   ]
  },
  {
   "cell_type": "code",
   "execution_count": 98,
   "id": "2df8032f-ba5b-4d6c-8f9e-bd52a48295bb",
   "metadata": {},
   "outputs": [],
   "source": [
    "r11 = [collecting_the_corpus(url) for url in all_unique_links[225:250]]"
   ]
  },
  {
   "cell_type": "code",
   "execution_count": 100,
   "id": "9eb3272c-b9b5-4b96-9eba-23c40d2a7a24",
   "metadata": {},
   "outputs": [],
   "source": [
    "r12 = [collecting_the_corpus(url) for url in all_unique_links[250:265]]"
   ]
  },
  {
   "cell_type": "code",
   "execution_count": 101,
   "id": "58919ec1-b114-42c0-acf8-d23d98f04a85",
   "metadata": {},
   "outputs": [],
   "source": [
    "r18 = [collecting_the_corpus(url) for url in all_unique_links[265:275]]"
   ]
  },
  {
   "cell_type": "code",
   "execution_count": 103,
   "id": "061f2176-5dbd-48a9-8c04-4f2ac083f1e4",
   "metadata": {},
   "outputs": [],
   "source": [
    "r13 = [collecting_the_corpus(url) for url in all_unique_links[275:300]]"
   ]
  },
  {
   "cell_type": "code",
   "execution_count": 104,
   "id": "465eae46-beea-4654-8bd7-280179e81647",
   "metadata": {},
   "outputs": [],
   "source": [
    "r19 = [collecting_the_corpus(url) for url in all_unique_links[300:325]]"
   ]
  },
  {
   "cell_type": "code",
   "execution_count": 105,
   "id": "bfe6f412-6b82-4a79-bcb8-6e7d957fd5b4",
   "metadata": {},
   "outputs": [],
   "source": [
    "r20 = [collecting_the_corpus(url) for url in all_unique_links[325:340]]"
   ]
  },
  {
   "cell_type": "code",
   "execution_count": 107,
   "id": "5b21746b-7ec1-491a-b898-2955a9ab1284",
   "metadata": {
    "tags": []
   },
   "outputs": [],
   "source": [
    "texts = r1 + r2 + r16 + r15 + r3 + r4 + r5 + r6 + r17+ r7 + r8 + r9 + r10 + r11 + r12 + r18 + r13 + r19 + r20"
   ]
  },
  {
   "cell_type": "code",
   "execution_count": 114,
   "id": "726be115-58a0-4381-8f48-cc5f70296773",
   "metadata": {},
   "outputs": [],
   "source": [
    "data = {\n",
    "         'texts': texts\n",
    "}"
   ]
  },
  {
   "cell_type": "code",
   "execution_count": 115,
   "id": "6e020b50-813f-459c-97a7-d203e82a141c",
   "metadata": {},
   "outputs": [],
   "source": [
    "df = pd.DataFrame(data=data)"
   ]
  },
  {
   "cell_type": "code",
   "execution_count": 117,
   "id": "f3d4faaf-6880-4758-b28b-23aaee96acd3",
   "metadata": {},
   "outputs": [],
   "source": [
    "df.to_csv('dirty df.csv') "
   ]
  }
 ],
 "metadata": {
  "kernelspec": {
   "display_name": "Python 3 (ipykernel)",
   "language": "python",
   "name": "python3"
  },
  "language_info": {
   "codemirror_mode": {
    "name": "ipython",
    "version": 3
   },
   "file_extension": ".py",
   "mimetype": "text/x-python",
   "name": "python",
   "nbconvert_exporter": "python",
   "pygments_lexer": "ipython3",
   "version": "3.9.7"
  }
 },
 "nbformat": 4,
 "nbformat_minor": 5
}
