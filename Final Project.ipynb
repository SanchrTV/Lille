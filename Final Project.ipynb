{
 "cells": [
  {
   "cell_type": "code",
   "execution_count": 1,
   "id": "c4ebad33-3c0c-4302-ab94-7072f91d2b7f",
   "metadata": {},
   "outputs": [],
   "source": [
    "import os\n",
    "import csv\n",
    "import pandas as pd\n",
    "import nltk\n",
    "from nltk.corpus import stopwords\n",
    "from nltk.tokenize import word_tokenize\n",
    "import spacy\n",
    "from keybert import KeyBERT\n",
    "from PyDictionary import PyDictionary\n",
    "import yake\n",
    "from keybert import KeyBERT"
   ]
  },
  {
   "cell_type": "code",
   "execution_count": 2,
   "id": "a435b322-d98d-4abd-bf04-cbe7a4814f19",
   "metadata": {
    "tags": []
   },
   "outputs": [
    {
     "name": "stderr",
     "output_type": "stream",
     "text": [
      "[nltk_data] Downloading package stopwords to /Users/alex/nltk_data...\n",
      "[nltk_data]   Package stopwords is already up-to-date!\n"
     ]
    }
   ],
   "source": [
    "nltk.download(\"stopwords\")\n",
    "stopwords = stopwords.words(\"english\")"
   ]
  },
  {
   "cell_type": "code",
   "execution_count": 63,
   "id": "21265fe3-f95d-4e81-a71e-f234dd8539b1",
   "metadata": {},
   "outputs": [],
   "source": [
    "nlp = spacy.load('en_core_web_sm')"
   ]
  },
  {
   "cell_type": "code",
   "execution_count": 11,
   "id": "4c37cd63-1091-4e92-b205-385514e3f39e",
   "metadata": {
    "tags": []
   },
   "outputs": [],
   "source": [
    "corpus = pd.read_csv(\"/Users/alex/Desktop/ВШЭ/Python/Project/df-corpus.csv\", sep='\\t')"
   ]
  },
  {
   "cell_type": "markdown",
   "id": "5c179017-2bc9-45f1-92f3-2c07ea030cbe",
   "metadata": {},
   "source": [
    "Ключевые слова"
   ]
  },
  {
   "cell_type": "code",
   "execution_count": 10,
   "id": "4a7e69fa-ecbe-4e78-bf3c-b2fc13b4e2c7",
   "metadata": {},
   "outputs": [],
   "source": [
    "def yake_keywords(text):\n",
    "    kw_extractor = yake.KeywordExtractor()\n",
    "    language = \"en\"\n",
    "    max_ngram_size = 1\n",
    "    deduplication_threshold = 0.9\n",
    "    numOfKeywords = 7\n",
    "    custom_kw_extractor = yake.KeywordExtractor(lan=language, n=max_ngram_size, dedupLim=deduplication_threshold, top=numOfKeywords, features=None)\n",
    "    keywords = custom_kw_extractor.extract_keywords(text.lower())\n",
    "    keywords1 = []\n",
    "    for kw in keywords:\n",
    "        keywords1.append(kw[0])\n",
    "    lemmatized_keywords = ' '.join(keywords1)\n",
    "    doc = nlp(lemmatized_keywords)\n",
    "    lemmatized_keywords = [i.lemma_ for i in doc]\n",
    "    lemmatized_keywords = list(set(lemmatized_keywords))     \n",
    "    return lemmatized_keywords"
   ]
  },
  {
   "cell_type": "markdown",
   "id": "3b006ece-65ff-4a6d-9c7a-f6b4a07d5247",
   "metadata": {},
   "source": [
    "Ключевые слова со словарными значениями"
   ]
  },
  {
   "cell_type": "code",
   "execution_count": 112,
   "id": "97380982-0cba-4333-84d6-844282c00f9d",
   "metadata": {},
   "outputs": [],
   "source": [
    "def keywords_with_definitions(text):\n",
    "    kw_model = KeyBERT()\n",
    "    keywords = kw_model.extract_keywords(text, keyphrase_ngram_range=(1, 1), stop_words=None)\n",
    "    keybert_keywords = [i[0] for i in keywords]\n",
    "    yake = yake_keywords(text)\n",
    "    all_keywords = keybert_keywords + yake\n",
    "    lemmatized_keywords = ' '.join(all_keywords)\n",
    "    doc = nlp(lemmatized_keywords)\n",
    "    lemmatized_keywords = [i.lemma_ for i in doc]\n",
    "    lemmatized_keywords = list(set(lemmatized_keywords))\n",
    "    dictionary = PyDictionary()\n",
    "    definitions = [dictionary.meaning(i, disable_errors=True) for i in lemmatized_keywords]\n",
    "    words_with_definitions = dict(zip(lemmatized_keywords,definitions))\n",
    "    strings = []\n",
    "    for key,item in words_with_definitions.items():\n",
    "        strings.append(\"{} - {}\".format(key.upper(), item))\n",
    "    result = \"\\n\".join(strings)\n",
    "    return result"
   ]
  },
  {
   "cell_type": "markdown",
   "id": "f3c4f483-7671-4758-96d6-65ebccca1188",
   "metadata": {},
   "source": [
    "Саммари"
   ]
  },
  {
   "cell_type": "code",
   "execution_count": 190,
   "id": "fd9cd1fa-df11-4333-9da4-7a4becd2d46a",
   "metadata": {},
   "outputs": [],
   "source": [
    "def summary(text):\n",
    "    docx = nlp(text)\n",
    "    mytokens = [token.text for token in docx]\n",
    "    word_frequencies = {}\n",
    "    for word in docx:\n",
    "        if word.text not in stopwords:\n",
    "            if word.text not in word_frequencies.keys():\n",
    "                word_frequencies[word.text] = 1\n",
    "            else:\n",
    "                word_frequencies[word.text] += 1\n",
    "    maximum_frequency = max(word_frequencies.values())\n",
    "    for word in word_frequencies.keys():\n",
    "        word_frequencies[word] = (word_frequencies[word]/maximum_frequency)\n",
    "    sentence_list = [sentence for sentence in docx.sents]\n",
    "    sentence_scores = {}\n",
    "    for sent in sentence_list:\n",
    "        for word in sent:\n",
    "            if word.text.lower() in word_frequencies.keys():\n",
    "                if len(sent.text.split(' ')) < 30:\n",
    "                    if sent not in sentence_scores.keys():\n",
    "                        sentence_scores[sent] = word_frequencies[word.text.lower()]\n",
    "                    else:\n",
    "                        sentence_scores[sent] += word_frequencies[word.text.lower()]\n",
    "\n",
    "    list_of_sentences = list(sentence_scores)\n",
    "    summary = \"\"\n",
    "    for i in list_of_sentences:\n",
    "        summary += str(i)+ \" \" \n",
    "    return summary"
   ]
  },
  {
   "cell_type": "code",
   "execution_count": null,
   "id": "eea24027-777d-4ea0-bce0-bc5f6ec3e30f",
   "metadata": {
    "tags": []
   },
   "outputs": [],
   "source": [
    "corpus['keywords with definitions'] = corpus['texts'].apply(keywords_with_definitions)"
   ]
  },
  {
   "cell_type": "code",
   "execution_count": null,
   "id": "f3f304ac-1eea-4646-bb81-20d322c3162d",
   "metadata": {},
   "outputs": [],
   "source": [
    "corpus['summary'] = corpus['texts'].apply(summary)"
   ]
  },
  {
   "cell_type": "code",
   "execution_count": 3,
   "id": "a4a1ffed-518e-415f-a046-b77ea24e2064",
   "metadata": {
    "collapsed": true,
    "jupyter": {
     "outputs_hidden": true
    },
    "tags": []
   },
   "outputs": [
    {
     "ename": "NameError",
     "evalue": "name 'corpus' is not defined",
     "output_type": "error",
     "traceback": [
      "\u001b[0;31m---------------------------------------------------------------------------\u001b[0m",
      "\u001b[0;31mNameError\u001b[0m                                 Traceback (most recent call last)",
      "\u001b[0;32m/var/folders/2p/20383txx6fd5wgd4_ttdyt_00000gn/T/ipykernel_50314/987787568.py\u001b[0m in \u001b[0;36m<module>\u001b[0;34m\u001b[0m\n\u001b[0;32m----> 1\u001b[0;31m \u001b[0mdisplay\u001b[0m\u001b[0;34m(\u001b[0m\u001b[0mcorpus\u001b[0m\u001b[0;34m)\u001b[0m\u001b[0;34m\u001b[0m\u001b[0;34m\u001b[0m\u001b[0m\n\u001b[0m",
      "\u001b[0;31mNameError\u001b[0m: name 'corpus' is not defined"
     ]
    }
   ],
   "source": [
    "display(corpus)"
   ]
  },
  {
   "cell_type": "markdown",
   "id": "9ead8127-a1d5-4617-8153-fdac63e080ac",
   "metadata": {},
   "source": [
    "Именнованные сущности NER"
   ]
  },
  {
   "cell_type": "code",
   "execution_count": 64,
   "id": "d6d3c627-d032-4a9b-8400-dbbeee5ca8b5",
   "metadata": {},
   "outputs": [],
   "source": [
    "corpus = pd.read_csv('Final corpus.csv')"
   ]
  },
  {
   "cell_type": "code",
   "execution_count": 65,
   "id": "c6d4e2cc-4eac-421d-a041-8bfa9e2b5d99",
   "metadata": {},
   "outputs": [],
   "source": [
    "nlp = spacy.load('en_core_web_lg')"
   ]
  },
  {
   "cell_type": "code",
   "execution_count": 74,
   "id": "a9044a77-34dc-4a19-b315-6e1ef9d45457",
   "metadata": {},
   "outputs": [],
   "source": [
    "exemple = corpus['texts'][183]"
   ]
  },
  {
   "cell_type": "code",
   "execution_count": 89,
   "id": "f2d52477-e839-4f33-8a01-bf13db089910",
   "metadata": {
    "tags": []
   },
   "outputs": [],
   "source": [
    "# # Если понадобится список именованных сущностей: \n",
    "# doc = nlp(exemple)\n",
    "# for entity in doc.ents:\n",
    "#     print(f\"{entity.text} ({entity.label_})\")"
   ]
  },
  {
   "cell_type": "markdown",
   "id": "c4b37027-c2d9-474c-a9cc-2f0c84f1cb54",
   "metadata": {},
   "source": [
    "textacy.extract.basics.entities(doc, *, include_types: Optional[str | Collection[str]] = None, exclude_types: Optional[str | Collection[str]] = None, drop_determiners: bool = True, min_freq: int = 1) \n",
    "Parameters\n",
    "doclike –\n",
    "include_types – Remove entities whose type IS NOT in this param; if “NUMERIC”, all numeric entity types (“DATE”, “MONEY”, “ORDINAL”, etc.) are included\n",
    "exclude_types – Remove entities whose type IS in this param; if “NUMERIC”, all numeric entity types (“DATE”, “MONEY”, “ORDINAL”, etc.) are excluded\n",
    "drop_determiners –\n",
    "Remove leading determiners (e.g. “the”) from entities (e.g. “the United States” => “United States”).\n",
    "min_freq – Remove entities that occur in doclike fewer than min_freq times"
   ]
  },
  {
   "cell_type": "code",
   "execution_count": 90,
   "id": "4eefb255-be92-43d0-99ab-7d6314982e88",
   "metadata": {},
   "outputs": [
    {
     "name": "stdout",
     "output_type": "stream",
     "text": [
      "<generator object entities at 0x7f9d087ff350>\n"
     ]
    }
   ],
   "source": [
    "textacy.extract.basics.entities(doc, exclude_types = 'ORDINAL')"
   ]
  },
  {
   "cell_type": "markdown",
   "id": "d8db3d43-eabb-4877-bffe-1f84462676ab",
   "metadata": {},
   "source": [
    "Для именованных сущностей найти двуграммы:"
   ]
  },
  {
   "cell_type": "code",
   "execution_count": null,
   "id": "3b59cd04-4a56-43fa-959c-4a192d5380ed",
   "metadata": {},
   "outputs": [],
   "source": []
  },
  {
   "cell_type": "code",
   "execution_count": null,
   "id": "441c07da-a52a-4866-aee8-120157d2c6e7",
   "metadata": {},
   "outputs": [],
   "source": [
    "textacy.extract.basics.ngrams(doc, (2,3), "
   ]
  },
  {
   "cell_type": "markdown",
   "id": "3ca676b9-c65f-490a-bad8-1ef62fc4c81b",
   "metadata": {},
   "source": [
    "textacy.extract.basics.ngrams(doclike: types.DocLike, n: int | Collection[int], *, filter_stops: bool = True, filter_punct: bool = True, filter_nums: bool = False, include_pos: Optional[str | Collection[str]] = None, exclude_pos: Optional[str | Collection[str]] = None, min_freq: int = 1) → Iterable[Span]\n",
    "\n",
    "Parameters\n",
    "doclike –\n",
    "n – Number of tokens included per n-gram; for example, 2 yields bigrams and 3 yields trigrams. If multiple values are specified, then the collections of n-grams are concatenated together; for example, (2, 3) yields bigrams and then trigrams.\n",
    "filter_stops – If True, remove ngrams that start or end with a stop word.\n",
    "filter_punct – If True, remove ngrams that contain any punctuation-only tokens.\n",
    "filter_nums – If True, remove ngrams that contain any numbers or number-like tokens (e.g. 10, ‘ten’).\n",
    "include_pos – Remove ngrams if any constituent tokens’ part-of-speech tags ARE NOT included in this param.\n",
    "exclude_pos – Remove ngrams if any constituent tokens’ part-of-speech tags ARE included in this param.\n",
    "min_freq – Remove ngrams that occur in doclike fewer than min_freq times"
   ]
  },
  {
   "cell_type": "code",
   "execution_count": null,
   "id": "cb7191c0-6039-457a-bcd3-94f11ee4ed78",
   "metadata": {},
   "outputs": [],
   "source": []
  },
  {
   "cell_type": "markdown",
   "id": "9754df90-b9d0-4dd9-b6c7-12955d9a0148",
   "metadata": {},
   "source": [
    "Визуализация для английских текстов:"
   ]
  },
  {
   "cell_type": "code",
   "execution_count": 76,
   "id": "ecd44bcc-3cfe-4351-a7e5-e0353953f7aa",
   "metadata": {
    "collapsed": true,
    "jupyter": {
     "outputs_hidden": true
    },
    "tags": []
   },
   "outputs": [
    {
     "data": {
      "text/html": [
       "<span class=\"tex2jax_ignore\"><!DOCTYPE html>\n",
       "<html lang=\"en\">\n",
       "    <head>\n",
       "        <title>displaCy</title>\n",
       "    </head>\n",
       "\n",
       "    <body style=\"font-size: 16px; font-family: -apple-system, BlinkMacSystemFont, 'Segoe UI', Helvetica, Arial, sans-serif, 'Apple Color Emoji', 'Segoe UI Emoji', 'Segoe UI Symbol'; padding: 4rem 2rem; direction: ltr\">\n",
       "<figure style=\"margin-bottom: 6rem\">\n",
       "<div class=\"entities\" style=\"line-height: 2.5; direction: ltr\">Cork</br></br>Cork - the thick bark of the cork oak tree (Quercus suber) - is a remarkable material. It is tough, elastic, buoyant, and fire-resistant, and suitable for a wide range of purposes. It has also been used for millennia: the ancient \n",
       "<mark class=\"entity\" style=\"background: #c887fb; padding: 0.45em 0.6em; margin: 0 0.25em; line-height: 1; border-radius: 0.35em;\">\n",
       "    Egyptians\n",
       "    <span style=\"font-size: 0.8em; font-weight: bold; line-height: 1; border-radius: 0.35em; vertical-align: middle; margin-left: 0.5rem\">NORP</span>\n",
       "</mark>\n",
       " sealed then sarcophagi (stone coffins) with cork, while the ancient \n",
       "<mark class=\"entity\" style=\"background: #f0d0ff; padding: 0.45em 0.6em; margin: 0 0.25em; line-height: 1; border-radius: 0.35em;\">\n",
       "    Greeks and Romans\n",
       "    <span style=\"font-size: 0.8em; font-weight: bold; line-height: 1; border-radius: 0.35em; vertical-align: middle; margin-left: 0.5rem\">WORK_OF_ART</span>\n",
       "</mark>\n",
       " used it for anything from beehives to sandals.</br>And the cork oak itself is an extraordinary tree. Its bark grows up to \n",
       "<mark class=\"entity\" style=\"background: #e4e7d2; padding: 0.45em 0.6em; margin: 0 0.25em; line-height: 1; border-radius: 0.35em;\">\n",
       "    20 cm\n",
       "    <span style=\"font-size: 0.8em; font-weight: bold; line-height: 1; border-radius: 0.35em; vertical-align: middle; margin-left: 0.5rem\">QUANTITY</span>\n",
       "</mark>\n",
       " in thickness, insulating the tree like a coat wrapped around the trunk and branches and keeping the inside at a constant \n",
       "<mark class=\"entity\" style=\"background: #e4e7d2; padding: 0.45em 0.6em; margin: 0 0.25em; line-height: 1; border-radius: 0.35em;\">\n",
       "    20\n",
       "    <span style=\"font-size: 0.8em; font-weight: bold; line-height: 1; border-radius: 0.35em; vertical-align: middle; margin-left: 0.5rem\">CARDINAL</span>\n",
       "</mark>\n",
       "°C \n",
       "<mark class=\"entity\" style=\"background: #bfe1d9; padding: 0.45em 0.6em; margin: 0 0.25em; line-height: 1; border-radius: 0.35em;\">\n",
       "    all year round\n",
       "    <span style=\"font-size: 0.8em; font-weight: bold; line-height: 1; border-radius: 0.35em; vertical-align: middle; margin-left: 0.5rem\">DATE</span>\n",
       "</mark>\n",
       ". Developed most probably as a defence against forest fires, the bark of the cork oak has a particular cellular structure - with \n",
       "<mark class=\"entity\" style=\"background: #e4e7d2; padding: 0.45em 0.6em; margin: 0 0.25em; line-height: 1; border-radius: 0.35em;\">\n",
       "    about 40 million\n",
       "    <span style=\"font-size: 0.8em; font-weight: bold; line-height: 1; border-radius: 0.35em; vertical-align: middle; margin-left: 0.5rem\">CARDINAL</span>\n",
       "</mark>\n",
       " cells per cubic centimetre - that technology has never succeeded in replicating. The cells are filled with air, which is why cork is so buoyant. It also has an elasticity that means you can squash it and watch it spring back to its original size and shape when you release the pressure.</br>Cork oaks grow in a number of \n",
       "<mark class=\"entity\" style=\"background: #ff9561; padding: 0.45em 0.6em; margin: 0 0.25em; line-height: 1; border-radius: 0.35em;\">\n",
       "    Mediterranean\n",
       "    <span style=\"font-size: 0.8em; font-weight: bold; line-height: 1; border-radius: 0.35em; vertical-align: middle; margin-left: 0.5rem\">LOC</span>\n",
       "</mark>\n",
       " countries, including \n",
       "<mark class=\"entity\" style=\"background: #feca74; padding: 0.45em 0.6em; margin: 0 0.25em; line-height: 1; border-radius: 0.35em;\">\n",
       "    Portugal\n",
       "    <span style=\"font-size: 0.8em; font-weight: bold; line-height: 1; border-radius: 0.35em; vertical-align: middle; margin-left: 0.5rem\">GPE</span>\n",
       "</mark>\n",
       ", \n",
       "<mark class=\"entity\" style=\"background: #feca74; padding: 0.45em 0.6em; margin: 0 0.25em; line-height: 1; border-radius: 0.35em;\">\n",
       "    Spain\n",
       "    <span style=\"font-size: 0.8em; font-weight: bold; line-height: 1; border-radius: 0.35em; vertical-align: middle; margin-left: 0.5rem\">GPE</span>\n",
       "</mark>\n",
       ", \n",
       "<mark class=\"entity\" style=\"background: #feca74; padding: 0.45em 0.6em; margin: 0 0.25em; line-height: 1; border-radius: 0.35em;\">\n",
       "    Italy\n",
       "    <span style=\"font-size: 0.8em; font-weight: bold; line-height: 1; border-radius: 0.35em; vertical-align: middle; margin-left: 0.5rem\">GPE</span>\n",
       "</mark>\n",
       ", \n",
       "<mark class=\"entity\" style=\"background: #feca74; padding: 0.45em 0.6em; margin: 0 0.25em; line-height: 1; border-radius: 0.35em;\">\n",
       "    Greece\n",
       "    <span style=\"font-size: 0.8em; font-weight: bold; line-height: 1; border-radius: 0.35em; vertical-align: middle; margin-left: 0.5rem\">GPE</span>\n",
       "</mark>\n",
       " and \n",
       "<mark class=\"entity\" style=\"background: #feca74; padding: 0.45em 0.6em; margin: 0 0.25em; line-height: 1; border-radius: 0.35em;\">\n",
       "    Morocco\n",
       "    <span style=\"font-size: 0.8em; font-weight: bold; line-height: 1; border-radius: 0.35em; vertical-align: middle; margin-left: 0.5rem\">GPE</span>\n",
       "</mark>\n",
       ". They flourish in warm, sunny climates where there is a minimum of \n",
       "<mark class=\"entity\" style=\"background: #e4e7d2; padding: 0.45em 0.6em; margin: 0 0.25em; line-height: 1; border-radius: 0.35em;\">\n",
       "    400\n",
       "    <span style=\"font-size: 0.8em; font-weight: bold; line-height: 1; border-radius: 0.35em; vertical-align: middle; margin-left: 0.5rem\">CARDINAL</span>\n",
       "</mark>\n",
       " millimetres of rain per year, and \n",
       "<mark class=\"entity\" style=\"background: #e4e7d2; padding: 0.45em 0.6em; margin: 0 0.25em; line-height: 1; border-radius: 0.35em;\">\n",
       "    no more than 800\n",
       "    <span style=\"font-size: 0.8em; font-weight: bold; line-height: 1; border-radius: 0.35em; vertical-align: middle; margin-left: 0.5rem\">CARDINAL</span>\n",
       "</mark>\n",
       " millimetres. Like grape vines, the trees thrive in poor soil, putting down deep root in search of moisture and nutrients. Southern Portugal’s \n",
       "<mark class=\"entity\" style=\"background: #aa9cfc; padding: 0.45em 0.6em; margin: 0 0.25em; line-height: 1; border-radius: 0.35em;\">\n",
       "    Alentejo\n",
       "    <span style=\"font-size: 0.8em; font-weight: bold; line-height: 1; border-radius: 0.35em; vertical-align: middle; margin-left: 0.5rem\">PERSON</span>\n",
       "</mark>\n",
       " region meets all of these requirements, which explains why, by \n",
       "<mark class=\"entity\" style=\"background: #bfe1d9; padding: 0.45em 0.6em; margin: 0 0.25em; line-height: 1; border-radius: 0.35em;\">\n",
       "    the early 20th century\n",
       "    <span style=\"font-size: 0.8em; font-weight: bold; line-height: 1; border-radius: 0.35em; vertical-align: middle; margin-left: 0.5rem\">DATE</span>\n",
       "</mark>\n",
       ", this region had become the world’s largest producer of cork, and why \n",
       "<mark class=\"entity\" style=\"background: #bfe1d9; padding: 0.45em 0.6em; margin: 0 0.25em; line-height: 1; border-radius: 0.35em;\">\n",
       "    today\n",
       "    <span style=\"font-size: 0.8em; font-weight: bold; line-height: 1; border-radius: 0.35em; vertical-align: middle; margin-left: 0.5rem\">DATE</span>\n",
       "</mark>\n",
       " it accounts for \n",
       "<mark class=\"entity\" style=\"background: #e4e7d2; padding: 0.45em 0.6em; margin: 0 0.25em; line-height: 1; border-radius: 0.35em;\">\n",
       "    roughly half\n",
       "    <span style=\"font-size: 0.8em; font-weight: bold; line-height: 1; border-radius: 0.35em; vertical-align: middle; margin-left: 0.5rem\">CARDINAL</span>\n",
       "</mark>\n",
       " of all cork production around the world.</br>Most cork forests are family-owned. Many of these family businesses, and indeed many of the trees themselves, are \n",
       "<mark class=\"entity\" style=\"background: #bfe1d9; padding: 0.45em 0.6em; margin: 0 0.25em; line-height: 1; border-radius: 0.35em;\">\n",
       "    around 200 years old\n",
       "    <span style=\"font-size: 0.8em; font-weight: bold; line-height: 1; border-radius: 0.35em; vertical-align: middle; margin-left: 0.5rem\">DATE</span>\n",
       "</mark>\n",
       ". Cork production is, above all, an exercise in patience. From the planting of a cork sapling to the \n",
       "<mark class=\"entity\" style=\"background: #e4e7d2; padding: 0.45em 0.6em; margin: 0 0.25em; line-height: 1; border-radius: 0.35em;\">\n",
       "    first\n",
       "    <span style=\"font-size: 0.8em; font-weight: bold; line-height: 1; border-radius: 0.35em; vertical-align: middle; margin-left: 0.5rem\">ORDINAL</span>\n",
       "</mark>\n",
       " harvest takes \n",
       "<mark class=\"entity\" style=\"background: #bfe1d9; padding: 0.45em 0.6em; margin: 0 0.25em; line-height: 1; border-radius: 0.35em;\">\n",
       "    25 years\n",
       "    <span style=\"font-size: 0.8em; font-weight: bold; line-height: 1; border-radius: 0.35em; vertical-align: middle; margin-left: 0.5rem\">DATE</span>\n",
       "</mark>\n",
       ", and a gap of \n",
       "<mark class=\"entity\" style=\"background: #bfe1d9; padding: 0.45em 0.6em; margin: 0 0.25em; line-height: 1; border-radius: 0.35em;\">\n",
       "    approximately a decade\n",
       "    <span style=\"font-size: 0.8em; font-weight: bold; line-height: 1; border-radius: 0.35em; vertical-align: middle; margin-left: 0.5rem\">DATE</span>\n",
       "</mark>\n",
       " must separate harvests from an individual tree. And for top-quality cork, it’s necessary to wait a further \n",
       "<mark class=\"entity\" style=\"background: #bfe1d9; padding: 0.45em 0.6em; margin: 0 0.25em; line-height: 1; border-radius: 0.35em;\">\n",
       "    15 or 20 years\n",
       "    <span style=\"font-size: 0.8em; font-weight: bold; line-height: 1; border-radius: 0.35em; vertical-align: middle; margin-left: 0.5rem\">DATE</span>\n",
       "</mark>\n",
       ". You even have to wait for the right kind of \n",
       "<mark class=\"entity\" style=\"background: #bfe1d9; padding: 0.45em 0.6em; margin: 0 0.25em; line-height: 1; border-radius: 0.35em;\">\n",
       "    summer’s day\n",
       "    <span style=\"font-size: 0.8em; font-weight: bold; line-height: 1; border-radius: 0.35em; vertical-align: middle; margin-left: 0.5rem\">DATE</span>\n",
       "</mark>\n",
       " to harvest cork. If the bark is stripped on a day when it’s too cold - or when the air is damp - the tree will be damaged.</br>Cork harvesting is a very specialised profession. No mechanical means of stripping cork bark has been invented, so the job is done by teams of highly skilled workers. \n",
       "<mark class=\"entity\" style=\"background: #e4e7d2; padding: 0.45em 0.6em; margin: 0 0.25em; line-height: 1; border-radius: 0.35em;\">\n",
       "    First\n",
       "    <span style=\"font-size: 0.8em; font-weight: bold; line-height: 1; border-radius: 0.35em; vertical-align: middle; margin-left: 0.5rem\">ORDINAL</span>\n",
       "</mark>\n",
       ", they make vertical cuts down the bark using small sharp axes, then lever it away in pieces as large as they can manage. The most skilful cork- strippers prise away a semi-circular husk that runs the length of the trunk from just above ground level to the \n",
       "<mark class=\"entity\" style=\"background: #e4e7d2; padding: 0.45em 0.6em; margin: 0 0.25em; line-height: 1; border-radius: 0.35em;\">\n",
       "    first\n",
       "    <span style=\"font-size: 0.8em; font-weight: bold; line-height: 1; border-radius: 0.35em; vertical-align: middle; margin-left: 0.5rem\">ORDINAL</span>\n",
       "</mark>\n",
       " branches. It is then dried on the ground for \n",
       "<mark class=\"entity\" style=\"background: #bfe1d9; padding: 0.45em 0.6em; margin: 0 0.25em; line-height: 1; border-radius: 0.35em;\">\n",
       "    about four months\n",
       "    <span style=\"font-size: 0.8em; font-weight: bold; line-height: 1; border-radius: 0.35em; vertical-align: middle; margin-left: 0.5rem\">DATE</span>\n",
       "</mark>\n",
       ", before being taken to factories, where it is boiled to kill any insects that might remain in the cork. Over \n",
       "<mark class=\"entity\" style=\"background: #e4e7d2; padding: 0.45em 0.6em; margin: 0 0.25em; line-height: 1; border-radius: 0.35em;\">\n",
       "    60%\n",
       "    <span style=\"font-size: 0.8em; font-weight: bold; line-height: 1; border-radius: 0.35em; vertical-align: middle; margin-left: 0.5rem\">PERCENT</span>\n",
       "</mark>\n",
       " of cork then goes on to be made into traditional bottle stoppers, with most of the remainder being used in the construction trade, \n",
       "<mark class=\"entity\" style=\"background: #feca74; padding: 0.45em 0.6em; margin: 0 0.25em; line-height: 1; border-radius: 0.35em;\">\n",
       "    Corkboard\n",
       "    <span style=\"font-size: 0.8em; font-weight: bold; line-height: 1; border-radius: 0.35em; vertical-align: middle; margin-left: 0.5rem\">GPE</span>\n",
       "</mark>\n",
       " and cork tiles are ideal for thermal and acoustic insulation, while granules of cork are used in the manufacture of concrete.</br>\n",
       "<mark class=\"entity\" style=\"background: #bfe1d9; padding: 0.45em 0.6em; margin: 0 0.25em; line-height: 1; border-radius: 0.35em;\">\n",
       "    Recent years\n",
       "    <span style=\"font-size: 0.8em; font-weight: bold; line-height: 1; border-radius: 0.35em; vertical-align: middle; margin-left: 0.5rem\">DATE</span>\n",
       "</mark>\n",
       " have seen the end of the virtual monopoly of cork as the material for bottle stoppers, due to concerns about the effect it may have on the contents of the bottle. This is caused by a chemical compound called \n",
       "<mark class=\"entity\" style=\"background: #e4e7d2; padding: 0.45em 0.6em; margin: 0 0.25em; line-height: 1; border-radius: 0.35em;\">\n",
       "    2,4,6\n",
       "    <span style=\"font-size: 0.8em; font-weight: bold; line-height: 1; border-radius: 0.35em; vertical-align: middle; margin-left: 0.5rem\">CARDINAL</span>\n",
       "</mark>\n",
       "-trichloroanisole (\n",
       "<mark class=\"entity\" style=\"background: #7aecec; padding: 0.45em 0.6em; margin: 0 0.25em; line-height: 1; border-radius: 0.35em;\">\n",
       "    TCA\n",
       "    <span style=\"font-size: 0.8em; font-weight: bold; line-height: 1; border-radius: 0.35em; vertical-align: middle; margin-left: 0.5rem\">ORG</span>\n",
       "</mark>\n",
       "), which forms through the interaction of plant phenols, chlorine and mould. The tiniest concentrations - \n",
       "<mark class=\"entity\" style=\"background: #e4e7d2; padding: 0.45em 0.6em; margin: 0 0.25em; line-height: 1; border-radius: 0.35em;\">\n",
       "    as little as\n",
       "    <span style=\"font-size: 0.8em; font-weight: bold; line-height: 1; border-radius: 0.35em; vertical-align: middle; margin-left: 0.5rem\">MONEY</span>\n",
       "</mark>\n",
       " three or four parts to a trillion - can spoil the taste of the product contained in the bottle. The result has been a gradual yet steady move \n",
       "<mark class=\"entity\" style=\"background: #e4e7d2; padding: 0.45em 0.6em; margin: 0 0.25em; line-height: 1; border-radius: 0.35em;\">\n",
       "    first\n",
       "    <span style=\"font-size: 0.8em; font-weight: bold; line-height: 1; border-radius: 0.35em; vertical-align: middle; margin-left: 0.5rem\">ORDINAL</span>\n",
       "</mark>\n",
       " towards plastic stoppers and, more recently, to aluminium screw caps. These substitutes are cheaper to manufacture and, in the case of screw caps, more convenient for the user.</br>The classic cork stopper does have several advantages, however. \n",
       "<mark class=\"entity\" style=\"background: #e4e7d2; padding: 0.45em 0.6em; margin: 0 0.25em; line-height: 1; border-radius: 0.35em;\">\n",
       "    Firstly\n",
       "    <span style=\"font-size: 0.8em; font-weight: bold; line-height: 1; border-radius: 0.35em; vertical-align: middle; margin-left: 0.5rem\">ORDINAL</span>\n",
       "</mark>\n",
       ", its traditional image is more in keeping with that of the type of high quality goods with which it has long been associated. \n",
       "<mark class=\"entity\" style=\"background: #e4e7d2; padding: 0.45em 0.6em; margin: 0 0.25em; line-height: 1; border-radius: 0.35em;\">\n",
       "    Secondly\n",
       "    <span style=\"font-size: 0.8em; font-weight: bold; line-height: 1; border-radius: 0.35em; vertical-align: middle; margin-left: 0.5rem\">ORDINAL</span>\n",
       "</mark>\n",
       " - and very importantly - cork is a sustainable product that can be recycled without difficulty. Moreover, cork forests are a resource which supports local biodiversity, and prevents desertification in the regions where they are planted. So, given the current concerns about environmental issues, the future of this ancient material once again looks promising.</div>\n",
       "</figure>\n",
       "</body>\n",
       "</html></span>"
      ],
      "text/plain": [
       "<IPython.core.display.HTML object>"
      ]
     },
     "metadata": {},
     "output_type": "display_data"
    },
    {
     "ename": "OSError",
     "evalue": "[Errno 48] Address already in use",
     "output_type": "error",
     "traceback": [
      "\u001b[0;31m---------------------------------------------------------------------------\u001b[0m",
      "\u001b[0;31mOSError\u001b[0m                                   Traceback (most recent call last)",
      "\u001b[0;32m/var/folders/2p/20383txx6fd5wgd4_ttdyt_00000gn/T/ipykernel_50314/351825594.py\u001b[0m in \u001b[0;36m<module>\u001b[0;34m\u001b[0m\n\u001b[1;32m      2\u001b[0m \u001b[0mnlp\u001b[0m \u001b[0;34m=\u001b[0m \u001b[0mspacy\u001b[0m\u001b[0;34m.\u001b[0m\u001b[0mload\u001b[0m\u001b[0;34m(\u001b[0m\u001b[0;34m\"en_core_web_sm\"\u001b[0m\u001b[0;34m)\u001b[0m\u001b[0;34m\u001b[0m\u001b[0;34m\u001b[0m\u001b[0m\n\u001b[1;32m      3\u001b[0m \u001b[0mdoc\u001b[0m \u001b[0;34m=\u001b[0m \u001b[0mnlp\u001b[0m\u001b[0;34m(\u001b[0m\u001b[0mexemple\u001b[0m\u001b[0;34m)\u001b[0m\u001b[0;34m\u001b[0m\u001b[0;34m\u001b[0m\u001b[0m\n\u001b[0;32m----> 4\u001b[0;31m \u001b[0mdisplacy\u001b[0m\u001b[0;34m.\u001b[0m\u001b[0mserve\u001b[0m\u001b[0;34m(\u001b[0m\u001b[0mdoc\u001b[0m\u001b[0;34m,\u001b[0m \u001b[0mstyle\u001b[0m\u001b[0;34m=\u001b[0m\u001b[0;34m\"ent\"\u001b[0m\u001b[0;34m)\u001b[0m\u001b[0;34m\u001b[0m\u001b[0;34m\u001b[0m\u001b[0m\n\u001b[0m",
      "\u001b[0;32m~/opt/anaconda3/lib/python3.9/site-packages/spacy/displacy/__init__.py\u001b[0m in \u001b[0;36mserve\u001b[0;34m(docs, style, page, minify, options, manual, port, host)\u001b[0m\n\u001b[1;32m     98\u001b[0m         \u001b[0mwarnings\u001b[0m\u001b[0;34m.\u001b[0m\u001b[0mwarn\u001b[0m\u001b[0;34m(\u001b[0m\u001b[0mWarnings\u001b[0m\u001b[0;34m.\u001b[0m\u001b[0mW011\u001b[0m\u001b[0;34m)\u001b[0m\u001b[0;34m\u001b[0m\u001b[0;34m\u001b[0m\u001b[0m\n\u001b[1;32m     99\u001b[0m     \u001b[0mrender\u001b[0m\u001b[0;34m(\u001b[0m\u001b[0mdocs\u001b[0m\u001b[0;34m,\u001b[0m \u001b[0mstyle\u001b[0m\u001b[0;34m=\u001b[0m\u001b[0mstyle\u001b[0m\u001b[0;34m,\u001b[0m \u001b[0mpage\u001b[0m\u001b[0;34m=\u001b[0m\u001b[0mpage\u001b[0m\u001b[0;34m,\u001b[0m \u001b[0mminify\u001b[0m\u001b[0;34m=\u001b[0m\u001b[0mminify\u001b[0m\u001b[0;34m,\u001b[0m \u001b[0moptions\u001b[0m\u001b[0;34m=\u001b[0m\u001b[0moptions\u001b[0m\u001b[0;34m,\u001b[0m \u001b[0mmanual\u001b[0m\u001b[0;34m=\u001b[0m\u001b[0mmanual\u001b[0m\u001b[0;34m)\u001b[0m\u001b[0;34m\u001b[0m\u001b[0;34m\u001b[0m\u001b[0m\n\u001b[0;32m--> 100\u001b[0;31m     \u001b[0mhttpd\u001b[0m \u001b[0;34m=\u001b[0m \u001b[0msimple_server\u001b[0m\u001b[0;34m.\u001b[0m\u001b[0mmake_server\u001b[0m\u001b[0;34m(\u001b[0m\u001b[0mhost\u001b[0m\u001b[0;34m,\u001b[0m \u001b[0mport\u001b[0m\u001b[0;34m,\u001b[0m \u001b[0mapp\u001b[0m\u001b[0;34m)\u001b[0m\u001b[0;34m\u001b[0m\u001b[0;34m\u001b[0m\u001b[0m\n\u001b[0m\u001b[1;32m    101\u001b[0m     \u001b[0mprint\u001b[0m\u001b[0;34m(\u001b[0m\u001b[0;34mf\"\\nUsing the '{style}' visualizer\"\u001b[0m\u001b[0;34m)\u001b[0m\u001b[0;34m\u001b[0m\u001b[0;34m\u001b[0m\u001b[0m\n\u001b[1;32m    102\u001b[0m     \u001b[0mprint\u001b[0m\u001b[0;34m(\u001b[0m\u001b[0;34mf\"Serving on http://{host}:{port} ...\\n\"\u001b[0m\u001b[0;34m)\u001b[0m\u001b[0;34m\u001b[0m\u001b[0;34m\u001b[0m\u001b[0m\n",
      "\u001b[0;32m~/opt/anaconda3/lib/python3.9/wsgiref/simple_server.py\u001b[0m in \u001b[0;36mmake_server\u001b[0;34m(host, port, app, server_class, handler_class)\u001b[0m\n\u001b[1;32m    152\u001b[0m ):\n\u001b[1;32m    153\u001b[0m     \u001b[0;34m\"\"\"Create a new WSGI server listening on `host` and `port` for `app`\"\"\"\u001b[0m\u001b[0;34m\u001b[0m\u001b[0;34m\u001b[0m\u001b[0m\n\u001b[0;32m--> 154\u001b[0;31m     \u001b[0mserver\u001b[0m \u001b[0;34m=\u001b[0m \u001b[0mserver_class\u001b[0m\u001b[0;34m(\u001b[0m\u001b[0;34m(\u001b[0m\u001b[0mhost\u001b[0m\u001b[0;34m,\u001b[0m \u001b[0mport\u001b[0m\u001b[0;34m)\u001b[0m\u001b[0;34m,\u001b[0m \u001b[0mhandler_class\u001b[0m\u001b[0;34m)\u001b[0m\u001b[0;34m\u001b[0m\u001b[0;34m\u001b[0m\u001b[0m\n\u001b[0m\u001b[1;32m    155\u001b[0m     \u001b[0mserver\u001b[0m\u001b[0;34m.\u001b[0m\u001b[0mset_app\u001b[0m\u001b[0;34m(\u001b[0m\u001b[0mapp\u001b[0m\u001b[0;34m)\u001b[0m\u001b[0;34m\u001b[0m\u001b[0;34m\u001b[0m\u001b[0m\n\u001b[1;32m    156\u001b[0m     \u001b[0;32mreturn\u001b[0m \u001b[0mserver\u001b[0m\u001b[0;34m\u001b[0m\u001b[0;34m\u001b[0m\u001b[0m\n",
      "\u001b[0;32m~/opt/anaconda3/lib/python3.9/socketserver.py\u001b[0m in \u001b[0;36m__init__\u001b[0;34m(self, server_address, RequestHandlerClass, bind_and_activate)\u001b[0m\n\u001b[1;32m    450\u001b[0m         \u001b[0;32mif\u001b[0m \u001b[0mbind_and_activate\u001b[0m\u001b[0;34m:\u001b[0m\u001b[0;34m\u001b[0m\u001b[0;34m\u001b[0m\u001b[0m\n\u001b[1;32m    451\u001b[0m             \u001b[0;32mtry\u001b[0m\u001b[0;34m:\u001b[0m\u001b[0;34m\u001b[0m\u001b[0;34m\u001b[0m\u001b[0m\n\u001b[0;32m--> 452\u001b[0;31m                 \u001b[0mself\u001b[0m\u001b[0;34m.\u001b[0m\u001b[0mserver_bind\u001b[0m\u001b[0;34m(\u001b[0m\u001b[0;34m)\u001b[0m\u001b[0;34m\u001b[0m\u001b[0;34m\u001b[0m\u001b[0m\n\u001b[0m\u001b[1;32m    453\u001b[0m                 \u001b[0mself\u001b[0m\u001b[0;34m.\u001b[0m\u001b[0mserver_activate\u001b[0m\u001b[0;34m(\u001b[0m\u001b[0;34m)\u001b[0m\u001b[0;34m\u001b[0m\u001b[0;34m\u001b[0m\u001b[0m\n\u001b[1;32m    454\u001b[0m             \u001b[0;32mexcept\u001b[0m\u001b[0;34m:\u001b[0m\u001b[0;34m\u001b[0m\u001b[0;34m\u001b[0m\u001b[0m\n",
      "\u001b[0;32m~/opt/anaconda3/lib/python3.9/wsgiref/simple_server.py\u001b[0m in \u001b[0;36mserver_bind\u001b[0;34m(self)\u001b[0m\n\u001b[1;32m     48\u001b[0m     \u001b[0;32mdef\u001b[0m \u001b[0mserver_bind\u001b[0m\u001b[0;34m(\u001b[0m\u001b[0mself\u001b[0m\u001b[0;34m)\u001b[0m\u001b[0;34m:\u001b[0m\u001b[0;34m\u001b[0m\u001b[0;34m\u001b[0m\u001b[0m\n\u001b[1;32m     49\u001b[0m         \u001b[0;34m\"\"\"Override server_bind to store the server name.\"\"\"\u001b[0m\u001b[0;34m\u001b[0m\u001b[0;34m\u001b[0m\u001b[0m\n\u001b[0;32m---> 50\u001b[0;31m         \u001b[0mHTTPServer\u001b[0m\u001b[0;34m.\u001b[0m\u001b[0mserver_bind\u001b[0m\u001b[0;34m(\u001b[0m\u001b[0mself\u001b[0m\u001b[0;34m)\u001b[0m\u001b[0;34m\u001b[0m\u001b[0;34m\u001b[0m\u001b[0m\n\u001b[0m\u001b[1;32m     51\u001b[0m         \u001b[0mself\u001b[0m\u001b[0;34m.\u001b[0m\u001b[0msetup_environ\u001b[0m\u001b[0;34m(\u001b[0m\u001b[0;34m)\u001b[0m\u001b[0;34m\u001b[0m\u001b[0;34m\u001b[0m\u001b[0m\n\u001b[1;32m     52\u001b[0m \u001b[0;34m\u001b[0m\u001b[0m\n",
      "\u001b[0;32m~/opt/anaconda3/lib/python3.9/http/server.py\u001b[0m in \u001b[0;36mserver_bind\u001b[0;34m(self)\u001b[0m\n\u001b[1;32m    136\u001b[0m     \u001b[0;32mdef\u001b[0m \u001b[0mserver_bind\u001b[0m\u001b[0;34m(\u001b[0m\u001b[0mself\u001b[0m\u001b[0;34m)\u001b[0m\u001b[0;34m:\u001b[0m\u001b[0;34m\u001b[0m\u001b[0;34m\u001b[0m\u001b[0m\n\u001b[1;32m    137\u001b[0m         \u001b[0;34m\"\"\"Override server_bind to store the server name.\"\"\"\u001b[0m\u001b[0;34m\u001b[0m\u001b[0;34m\u001b[0m\u001b[0m\n\u001b[0;32m--> 138\u001b[0;31m         \u001b[0msocketserver\u001b[0m\u001b[0;34m.\u001b[0m\u001b[0mTCPServer\u001b[0m\u001b[0;34m.\u001b[0m\u001b[0mserver_bind\u001b[0m\u001b[0;34m(\u001b[0m\u001b[0mself\u001b[0m\u001b[0;34m)\u001b[0m\u001b[0;34m\u001b[0m\u001b[0;34m\u001b[0m\u001b[0m\n\u001b[0m\u001b[1;32m    139\u001b[0m         \u001b[0mhost\u001b[0m\u001b[0;34m,\u001b[0m \u001b[0mport\u001b[0m \u001b[0;34m=\u001b[0m \u001b[0mself\u001b[0m\u001b[0;34m.\u001b[0m\u001b[0mserver_address\u001b[0m\u001b[0;34m[\u001b[0m\u001b[0;34m:\u001b[0m\u001b[0;36m2\u001b[0m\u001b[0;34m]\u001b[0m\u001b[0;34m\u001b[0m\u001b[0;34m\u001b[0m\u001b[0m\n\u001b[1;32m    140\u001b[0m         \u001b[0mself\u001b[0m\u001b[0;34m.\u001b[0m\u001b[0mserver_name\u001b[0m \u001b[0;34m=\u001b[0m \u001b[0msocket\u001b[0m\u001b[0;34m.\u001b[0m\u001b[0mgetfqdn\u001b[0m\u001b[0;34m(\u001b[0m\u001b[0mhost\u001b[0m\u001b[0;34m)\u001b[0m\u001b[0;34m\u001b[0m\u001b[0;34m\u001b[0m\u001b[0m\n",
      "\u001b[0;32m~/opt/anaconda3/lib/python3.9/socketserver.py\u001b[0m in \u001b[0;36mserver_bind\u001b[0;34m(self)\u001b[0m\n\u001b[1;32m    464\u001b[0m         \u001b[0;32mif\u001b[0m \u001b[0mself\u001b[0m\u001b[0;34m.\u001b[0m\u001b[0mallow_reuse_address\u001b[0m\u001b[0;34m:\u001b[0m\u001b[0;34m\u001b[0m\u001b[0;34m\u001b[0m\u001b[0m\n\u001b[1;32m    465\u001b[0m             \u001b[0mself\u001b[0m\u001b[0;34m.\u001b[0m\u001b[0msocket\u001b[0m\u001b[0;34m.\u001b[0m\u001b[0msetsockopt\u001b[0m\u001b[0;34m(\u001b[0m\u001b[0msocket\u001b[0m\u001b[0;34m.\u001b[0m\u001b[0mSOL_SOCKET\u001b[0m\u001b[0;34m,\u001b[0m \u001b[0msocket\u001b[0m\u001b[0;34m.\u001b[0m\u001b[0mSO_REUSEADDR\u001b[0m\u001b[0;34m,\u001b[0m \u001b[0;36m1\u001b[0m\u001b[0;34m)\u001b[0m\u001b[0;34m\u001b[0m\u001b[0;34m\u001b[0m\u001b[0m\n\u001b[0;32m--> 466\u001b[0;31m         \u001b[0mself\u001b[0m\u001b[0;34m.\u001b[0m\u001b[0msocket\u001b[0m\u001b[0;34m.\u001b[0m\u001b[0mbind\u001b[0m\u001b[0;34m(\u001b[0m\u001b[0mself\u001b[0m\u001b[0;34m.\u001b[0m\u001b[0mserver_address\u001b[0m\u001b[0;34m)\u001b[0m\u001b[0;34m\u001b[0m\u001b[0;34m\u001b[0m\u001b[0m\n\u001b[0m\u001b[1;32m    467\u001b[0m         \u001b[0mself\u001b[0m\u001b[0;34m.\u001b[0m\u001b[0mserver_address\u001b[0m \u001b[0;34m=\u001b[0m \u001b[0mself\u001b[0m\u001b[0;34m.\u001b[0m\u001b[0msocket\u001b[0m\u001b[0;34m.\u001b[0m\u001b[0mgetsockname\u001b[0m\u001b[0;34m(\u001b[0m\u001b[0;34m)\u001b[0m\u001b[0;34m\u001b[0m\u001b[0;34m\u001b[0m\u001b[0m\n\u001b[1;32m    468\u001b[0m \u001b[0;34m\u001b[0m\u001b[0m\n",
      "\u001b[0;31mOSError\u001b[0m: [Errno 48] Address already in use"
     ]
    }
   ],
   "source": [
    "from spacy import displacy\n",
    "nlp = spacy.load(\"en_core_web_sm\")\n",
    "doc = nlp(exemple)\n",
    "displacy.serve(doc, style=\"ent\")"
   ]
  },
  {
   "cell_type": "code",
   "execution_count": 93,
   "id": "d46bef5d-9cd1-4dad-b523-3e815a04798e",
   "metadata": {
    "tags": []
   },
   "outputs": [],
   "source": [
    "import spacy\n",
    "import textacy.extract\n",
    "doc = nlp(exemple)\n",
    "statements = textacy.extract.semistructured_statements(doc, entity='', cue='')\n",
    "\n",
    "\n",
    "for statement in statements:\n",
    "    subject, verb, fact = statement\n",
    "    print(f\" - {fact}\")"
   ]
  },
  {
   "cell_type": "markdown",
   "id": "66cd4921-ca31-417f-b62d-33beec09b492",
   "metadata": {},
   "source": [
    "Извлечения часто упоминаемых фрагментов из документа:"
   ]
  },
  {
   "cell_type": "code",
   "execution_count": 91,
   "id": "76112875-af91-4a5e-87bf-5a8eddd48c04",
   "metadata": {},
   "outputs": [
    {
     "name": "stdout",
     "output_type": "stream",
     "text": [
      "cork oak\n",
      "screw caps\n"
     ]
    }
   ],
   "source": [
    "doc = nlp(exemple)\n",
    "\n",
    "noun_chunks = textacy.extract.noun_chunks(doc, min_freq=2)\n",
    "\n",
    "noun_chunks = map(str, noun_chunks)\n",
    "noun_chunks = map(str.lower, noun_chunks)\n",
    "\n",
    "for noun_chunk in set(noun_chunks):\n",
    "    if len(noun_chunk.split(\" \")) > 1:\n",
    "        print(noun_chunk)"
   ]
  },
  {
   "cell_type": "markdown",
   "id": "317c208b-9e58-40df-a30d-6edad9b8103d",
   "metadata": {},
   "source": [
    "n-grams:"
   ]
  },
  {
   "cell_type": "code",
   "execution_count": 82,
   "id": "f0df9781-6b98-4b4d-9e4e-9a69cc4c698d",
   "metadata": {
    "collapsed": true,
    "jupyter": {
     "outputs_hidden": true
    },
    "tags": []
   },
   "outputs": [
    {
     "name": "stdout",
     "output_type": "stream",
     "text": [
      "[('cork\\n\\ncork', 'the', 'thick', 'bark', 'of'), ('the', 'thick', 'bark', 'of', 'the'), ('thick', 'bark', 'of', 'the', 'cork'), ('bark', 'of', 'the', 'cork', 'oak'), ('of', 'the', 'cork', 'oak', 'tree'), ('the', 'cork', 'oak', 'tree', 'quercus'), ('cork', 'oak', 'tree', 'quercus', 'suber'), ('oak', 'tree', 'quercus', 'suber', 'is'), ('tree', 'quercus', 'suber', 'is', 'a'), ('quercus', 'suber', 'is', 'a', 'remarkable'), ('suber', 'is', 'a', 'remarkable', 'material'), ('is', 'a', 'remarkable', 'material', 'it'), ('a', 'remarkable', 'material', 'it', 'is'), ('remarkable', 'material', 'it', 'is', 'tough'), ('material', 'it', 'is', 'tough', 'elastic'), ('it', 'is', 'tough', 'elastic', 'buoyant'), ('is', 'tough', 'elastic', 'buoyant', 'and'), ('tough', 'elastic', 'buoyant', 'and', 'fire'), ('elastic', 'buoyant', 'and', 'fire', 'resistant'), ('buoyant', 'and', 'fire', 'resistant', 'and'), ('and', 'fire', 'resistant', 'and', 'suitable'), ('fire', 'resistant', 'and', 'suitable', 'for'), ('resistant', 'and', 'suitable', 'for', 'a'), ('and', 'suitable', 'for', 'a', 'wide'), ('suitable', 'for', 'a', 'wide', 'range'), ('for', 'a', 'wide', 'range', 'of'), ('a', 'wide', 'range', 'of', 'purposes'), ('wide', 'range', 'of', 'purposes', 'it'), ('range', 'of', 'purposes', 'it', 'has'), ('of', 'purposes', 'it', 'has', 'also'), ('purposes', 'it', 'has', 'also', 'been'), ('it', 'has', 'also', 'been', 'used'), ('has', 'also', 'been', 'used', 'for'), ('also', 'been', 'used', 'for', 'millennia'), ('been', 'used', 'for', 'millennia', 'the'), ('used', 'for', 'millennia', 'the', 'ancient'), ('for', 'millennia', 'the', 'ancient', 'egyptians'), ('millennia', 'the', 'ancient', 'egyptians', 'sealed'), ('the', 'ancient', 'egyptians', 'sealed', 'then'), ('ancient', 'egyptians', 'sealed', 'then', 'sarcophagi'), ('egyptians', 'sealed', 'then', 'sarcophagi', 'stone'), ('sealed', 'then', 'sarcophagi', 'stone', 'coffins'), ('then', 'sarcophagi', 'stone', 'coffins', 'with'), ('sarcophagi', 'stone', 'coffins', 'with', 'cork'), ('stone', 'coffins', 'with', 'cork', 'while'), ('coffins', 'with', 'cork', 'while', 'the'), ('with', 'cork', 'while', 'the', 'ancient'), ('cork', 'while', 'the', 'ancient', 'greeks'), ('while', 'the', 'ancient', 'greeks', 'and'), ('the', 'ancient', 'greeks', 'and', 'romans'), ('ancient', 'greeks', 'and', 'romans', 'used'), ('greeks', 'and', 'romans', 'used', 'it'), ('and', 'romans', 'used', 'it', 'for'), ('romans', 'used', 'it', 'for', 'anything'), ('used', 'it', 'for', 'anything', 'from'), ('it', 'for', 'anything', 'from', 'beehives'), ('for', 'anything', 'from', 'beehives', 'to'), ('anything', 'from', 'beehives', 'to', 'sandals'), ('from', 'beehives', 'to', 'sandals', '\\nand'), ('beehives', 'to', 'sandals', '\\nand', 'the'), ('to', 'sandals', '\\nand', 'the', 'cork'), ('sandals', '\\nand', 'the', 'cork', 'oak'), ('\\nand', 'the', 'cork', 'oak', 'itself'), ('the', 'cork', 'oak', 'itself', 'is'), ('cork', 'oak', 'itself', 'is', 'an'), ('oak', 'itself', 'is', 'an', 'extraordinary'), ('itself', 'is', 'an', 'extraordinary', 'tree'), ('is', 'an', 'extraordinary', 'tree', 'its'), ('an', 'extraordinary', 'tree', 'its', 'bark'), ('extraordinary', 'tree', 'its', 'bark', 'grows'), ('tree', 'its', 'bark', 'grows', 'up'), ('its', 'bark', 'grows', 'up', 'to'), ('bark', 'grows', 'up', 'to', '20'), ('grows', 'up', 'to', '20', 'cm'), ('up', 'to', '20', 'cm', 'in'), ('to', '20', 'cm', 'in', 'thickness'), ('20', 'cm', 'in', 'thickness', 'insulating'), ('cm', 'in', 'thickness', 'insulating', 'the'), ('in', 'thickness', 'insulating', 'the', 'tree'), ('thickness', 'insulating', 'the', 'tree', 'like'), ('insulating', 'the', 'tree', 'like', 'a'), ('the', 'tree', 'like', 'a', 'coat'), ('tree', 'like', 'a', 'coat', 'wrapped'), ('like', 'a', 'coat', 'wrapped', 'around'), ('a', 'coat', 'wrapped', 'around', 'the'), ('coat', 'wrapped', 'around', 'the', 'trunk'), ('wrapped', 'around', 'the', 'trunk', 'and'), ('around', 'the', 'trunk', 'and', 'branches'), ('the', 'trunk', 'and', 'branches', 'and'), ('trunk', 'and', 'branches', 'and', 'keeping'), ('and', 'branches', 'and', 'keeping', 'the'), ('branches', 'and', 'keeping', 'the', 'inside'), ('and', 'keeping', 'the', 'inside', 'at'), ('keeping', 'the', 'inside', 'at', 'a'), ('the', 'inside', 'at', 'a', 'constant'), ('inside', 'at', 'a', 'constant', '20'), ('at', 'a', 'constant', '20', 'c'), ('a', 'constant', '20', 'c', 'all'), ('constant', '20', 'c', 'all', 'year'), ('20', 'c', 'all', 'year', 'round'), ('c', 'all', 'year', 'round', 'developed'), ('all', 'year', 'round', 'developed', 'most'), ('year', 'round', 'developed', 'most', 'probably'), ('round', 'developed', 'most', 'probably', 'as'), ('developed', 'most', 'probably', 'as', 'a'), ('most', 'probably', 'as', 'a', 'defence'), ('probably', 'as', 'a', 'defence', 'against'), ('as', 'a', 'defence', 'against', 'forest'), ('a', 'defence', 'against', 'forest', 'fires'), ('defence', 'against', 'forest', 'fires', 'the'), ('against', 'forest', 'fires', 'the', 'bark'), ('forest', 'fires', 'the', 'bark', 'of'), ('fires', 'the', 'bark', 'of', 'the'), ('the', 'bark', 'of', 'the', 'cork'), ('bark', 'of', 'the', 'cork', 'oak'), ('of', 'the', 'cork', 'oak', 'has'), ('the', 'cork', 'oak', 'has', 'a'), ('cork', 'oak', 'has', 'a', 'particular'), ('oak', 'has', 'a', 'particular', 'cellular'), ('has', 'a', 'particular', 'cellular', 'structure'), ('a', 'particular', 'cellular', 'structure', 'with'), ('particular', 'cellular', 'structure', 'with', 'about'), ('cellular', 'structure', 'with', 'about', '40'), ('structure', 'with', 'about', '40', 'million'), ('with', 'about', '40', 'million', 'cells'), ('about', '40', 'million', 'cells', 'per'), ('40', 'million', 'cells', 'per', 'cubic'), ('million', 'cells', 'per', 'cubic', 'centimetre'), ('cells', 'per', 'cubic', 'centimetre', 'that'), ('per', 'cubic', 'centimetre', 'that', 'technology'), ('cubic', 'centimetre', 'that', 'technology', 'has'), ('centimetre', 'that', 'technology', 'has', 'never'), ('that', 'technology', 'has', 'never', 'succeeded'), ('technology', 'has', 'never', 'succeeded', 'in'), ('has', 'never', 'succeeded', 'in', 'replicating'), ('never', 'succeeded', 'in', 'replicating', 'the'), ('succeeded', 'in', 'replicating', 'the', 'cells'), ('in', 'replicating', 'the', 'cells', 'are'), ('replicating', 'the', 'cells', 'are', 'filled'), ('the', 'cells', 'are', 'filled', 'with'), ('cells', 'are', 'filled', 'with', 'air'), ('are', 'filled', 'with', 'air', 'which'), ('filled', 'with', 'air', 'which', 'is'), ('with', 'air', 'which', 'is', 'why'), ('air', 'which', 'is', 'why', 'cork'), ('which', 'is', 'why', 'cork', 'is'), ('is', 'why', 'cork', 'is', 'so'), ('why', 'cork', 'is', 'so', 'buoyant'), ('cork', 'is', 'so', 'buoyant', 'it'), ('is', 'so', 'buoyant', 'it', 'also'), ('so', 'buoyant', 'it', 'also', 'has'), ('buoyant', 'it', 'also', 'has', 'an'), ('it', 'also', 'has', 'an', 'elasticity'), ('also', 'has', 'an', 'elasticity', 'that'), ('has', 'an', 'elasticity', 'that', 'means'), ('an', 'elasticity', 'that', 'means', 'you'), ('elasticity', 'that', 'means', 'you', 'can'), ('that', 'means', 'you', 'can', 'squash'), ('means', 'you', 'can', 'squash', 'it'), ('you', 'can', 'squash', 'it', 'and'), ('can', 'squash', 'it', 'and', 'watch'), ('squash', 'it', 'and', 'watch', 'it'), ('it', 'and', 'watch', 'it', 'spring'), ('and', 'watch', 'it', 'spring', 'back'), ('watch', 'it', 'spring', 'back', 'to'), ('it', 'spring', 'back', 'to', 'its'), ('spring', 'back', 'to', 'its', 'original'), ('back', 'to', 'its', 'original', 'size'), ('to', 'its', 'original', 'size', 'and'), ('its', 'original', 'size', 'and', 'shape'), ('original', 'size', 'and', 'shape', 'when'), ('size', 'and', 'shape', 'when', 'you'), ('and', 'shape', 'when', 'you', 'release'), ('shape', 'when', 'you', 'release', 'the'), ('when', 'you', 'release', 'the', 'pressure'), ('you', 'release', 'the', 'pressure', '\\ncork'), ('release', 'the', 'pressure', '\\ncork', 'oaks'), ('the', 'pressure', '\\ncork', 'oaks', 'grow'), ('pressure', '\\ncork', 'oaks', 'grow', 'in'), ('\\ncork', 'oaks', 'grow', 'in', 'a'), ('oaks', 'grow', 'in', 'a', 'number'), ('grow', 'in', 'a', 'number', 'of'), ('in', 'a', 'number', 'of', 'mediterranean'), ('a', 'number', 'of', 'mediterranean', 'countries'), ('number', 'of', 'mediterranean', 'countries', 'including'), ('of', 'mediterranean', 'countries', 'including', 'portugal'), ('mediterranean', 'countries', 'including', 'portugal', 'spain'), ('countries', 'including', 'portugal', 'spain', 'italy'), ('including', 'portugal', 'spain', 'italy', 'greece'), ('portugal', 'spain', 'italy', 'greece', 'and'), ('spain', 'italy', 'greece', 'and', 'morocco'), ('italy', 'greece', 'and', 'morocco', 'they'), ('greece', 'and', 'morocco', 'they', 'flourish'), ('and', 'morocco', 'they', 'flourish', 'in'), ('morocco', 'they', 'flourish', 'in', 'warm'), ('they', 'flourish', 'in', 'warm', 'sunny'), ('flourish', 'in', 'warm', 'sunny', 'climates'), ('in', 'warm', 'sunny', 'climates', 'where'), ('warm', 'sunny', 'climates', 'where', 'there'), ('sunny', 'climates', 'where', 'there', 'is'), ('climates', 'where', 'there', 'is', 'a'), ('where', 'there', 'is', 'a', 'minimum'), ('there', 'is', 'a', 'minimum', 'of'), ('is', 'a', 'minimum', 'of', '400'), ('a', 'minimum', 'of', '400', 'millimetres'), ('minimum', 'of', '400', 'millimetres', 'of'), ('of', '400', 'millimetres', 'of', 'rain'), ('400', 'millimetres', 'of', 'rain', 'per'), ('millimetres', 'of', 'rain', 'per', 'year'), ('of', 'rain', 'per', 'year', 'and'), ('rain', 'per', 'year', 'and', 'no'), ('per', 'year', 'and', 'no', 'more'), ('year', 'and', 'no', 'more', 'than'), ('and', 'no', 'more', 'than', '800'), ('no', 'more', 'than', '800', 'millimetres'), ('more', 'than', '800', 'millimetres', 'like'), ('than', '800', 'millimetres', 'like', 'grape'), ('800', 'millimetres', 'like', 'grape', 'vines'), ('millimetres', 'like', 'grape', 'vines', 'the'), ('like', 'grape', 'vines', 'the', 'trees'), ('grape', 'vines', 'the', 'trees', 'thrive'), ('vines', 'the', 'trees', 'thrive', 'in'), ('the', 'trees', 'thrive', 'in', 'poor'), ('trees', 'thrive', 'in', 'poor', 'soil'), ('thrive', 'in', 'poor', 'soil', 'putting'), ('in', 'poor', 'soil', 'putting', 'down'), ('poor', 'soil', 'putting', 'down', 'deep'), ('soil', 'putting', 'down', 'deep', 'root'), ('putting', 'down', 'deep', 'root', 'in'), ('down', 'deep', 'root', 'in', 'search'), ('deep', 'root', 'in', 'search', 'of'), ('root', 'in', 'search', 'of', 'moisture'), ('in', 'search', 'of', 'moisture', 'and'), ('search', 'of', 'moisture', 'and', 'nutrients'), ('of', 'moisture', 'and', 'nutrients', 'southern'), ('moisture', 'and', 'nutrients', 'southern', 'portugal'), ('and', 'nutrients', 'southern', 'portugal', 's'), ('nutrients', 'southern', 'portugal', 's', 'alentejo'), ('southern', 'portugal', 's', 'alentejo', 'region'), ('portugal', 's', 'alentejo', 'region', 'meets'), ('s', 'alentejo', 'region', 'meets', 'all'), ('alentejo', 'region', 'meets', 'all', 'of'), ('region', 'meets', 'all', 'of', 'these'), ('meets', 'all', 'of', 'these', 'requirements'), ('all', 'of', 'these', 'requirements', 'which'), ('of', 'these', 'requirements', 'which', 'explains'), ('these', 'requirements', 'which', 'explains', 'why'), ('requirements', 'which', 'explains', 'why', 'by'), ('which', 'explains', 'why', 'by', 'the'), ('explains', 'why', 'by', 'the', 'early'), ('why', 'by', 'the', 'early', '20th'), ('by', 'the', 'early', '20th', 'century'), ('the', 'early', '20th', 'century', 'this'), ('early', '20th', 'century', 'this', 'region'), ('20th', 'century', 'this', 'region', 'had'), ('century', 'this', 'region', 'had', 'become'), ('this', 'region', 'had', 'become', 'the'), ('region', 'had', 'become', 'the', 'world'), ('had', 'become', 'the', 'world', 's'), ('become', 'the', 'world', 's', 'largest'), ('the', 'world', 's', 'largest', 'producer'), ('world', 's', 'largest', 'producer', 'of'), ('s', 'largest', 'producer', 'of', 'cork'), ('largest', 'producer', 'of', 'cork', 'and'), ('producer', 'of', 'cork', 'and', 'why'), ('of', 'cork', 'and', 'why', 'today'), ('cork', 'and', 'why', 'today', 'it'), ('and', 'why', 'today', 'it', 'accounts'), ('why', 'today', 'it', 'accounts', 'for'), ('today', 'it', 'accounts', 'for', 'roughly'), ('it', 'accounts', 'for', 'roughly', 'half'), ('accounts', 'for', 'roughly', 'half', 'of'), ('for', 'roughly', 'half', 'of', 'all'), ('roughly', 'half', 'of', 'all', 'cork'), ('half', 'of', 'all', 'cork', 'production'), ('of', 'all', 'cork', 'production', 'around'), ('all', 'cork', 'production', 'around', 'the'), ('cork', 'production', 'around', 'the', 'world'), ('production', 'around', 'the', 'world', '\\nmost'), ('around', 'the', 'world', '\\nmost', 'cork'), ('the', 'world', '\\nmost', 'cork', 'forests'), ('world', '\\nmost', 'cork', 'forests', 'are'), ('\\nmost', 'cork', 'forests', 'are', 'family'), ('cork', 'forests', 'are', 'family', 'owned'), ('forests', 'are', 'family', 'owned', 'many'), ('are', 'family', 'owned', 'many', 'of'), ('family', 'owned', 'many', 'of', 'these'), ('owned', 'many', 'of', 'these', 'family'), ('many', 'of', 'these', 'family', 'businesses'), ('of', 'these', 'family', 'businesses', 'and'), ('these', 'family', 'businesses', 'and', 'indeed'), ('family', 'businesses', 'and', 'indeed', 'many'), ('businesses', 'and', 'indeed', 'many', 'of'), ('and', 'indeed', 'many', 'of', 'the'), ('indeed', 'many', 'of', 'the', 'trees'), ('many', 'of', 'the', 'trees', 'themselves'), ('of', 'the', 'trees', 'themselves', 'are'), ('the', 'trees', 'themselves', 'are', 'around'), ('trees', 'themselves', 'are', 'around', '200'), ('themselves', 'are', 'around', '200', 'years'), ('are', 'around', '200', 'years', 'old'), ('around', '200', 'years', 'old', 'cork'), ('200', 'years', 'old', 'cork', 'production'), ('years', 'old', 'cork', 'production', 'is'), ('old', 'cork', 'production', 'is', 'above'), ('cork', 'production', 'is', 'above', 'all'), ('production', 'is', 'above', 'all', 'an'), ('is', 'above', 'all', 'an', 'exercise'), ('above', 'all', 'an', 'exercise', 'in'), ('all', 'an', 'exercise', 'in', 'patience'), ('an', 'exercise', 'in', 'patience', 'from'), ('exercise', 'in', 'patience', 'from', 'the'), ('in', 'patience', 'from', 'the', 'planting'), ('patience', 'from', 'the', 'planting', 'of'), ('from', 'the', 'planting', 'of', 'a'), ('the', 'planting', 'of', 'a', 'cork'), ('planting', 'of', 'a', 'cork', 'sapling'), ('of', 'a', 'cork', 'sapling', 'to'), ('a', 'cork', 'sapling', 'to', 'the'), ('cork', 'sapling', 'to', 'the', 'first'), ('sapling', 'to', 'the', 'first', 'harvest'), ('to', 'the', 'first', 'harvest', 'takes'), ('the', 'first', 'harvest', 'takes', '25'), ('first', 'harvest', 'takes', '25', 'years'), ('harvest', 'takes', '25', 'years', 'and'), ('takes', '25', 'years', 'and', 'a'), ('25', 'years', 'and', 'a', 'gap'), ('years', 'and', 'a', 'gap', 'of'), ('and', 'a', 'gap', 'of', 'approximately'), ('a', 'gap', 'of', 'approximately', 'a'), ('gap', 'of', 'approximately', 'a', 'decade'), ('of', 'approximately', 'a', 'decade', 'must'), ('approximately', 'a', 'decade', 'must', 'separate'), ('a', 'decade', 'must', 'separate', 'harvests'), ('decade', 'must', 'separate', 'harvests', 'from'), ('must', 'separate', 'harvests', 'from', 'an'), ('separate', 'harvests', 'from', 'an', 'individual'), ('harvests', 'from', 'an', 'individual', 'tree'), ('from', 'an', 'individual', 'tree', 'and'), ('an', 'individual', 'tree', 'and', 'for'), ('individual', 'tree', 'and', 'for', 'top'), ('tree', 'and', 'for', 'top', 'quality'), ('and', 'for', 'top', 'quality', 'cork'), ('for', 'top', 'quality', 'cork', 'it'), ('top', 'quality', 'cork', 'it', 's'), ('quality', 'cork', 'it', 's', 'necessary'), ('cork', 'it', 's', 'necessary', 'to'), ('it', 's', 'necessary', 'to', 'wait'), ('s', 'necessary', 'to', 'wait', 'a'), ('necessary', 'to', 'wait', 'a', 'further'), ('to', 'wait', 'a', 'further', '15'), ('wait', 'a', 'further', '15', 'or'), ('a', 'further', '15', 'or', '20'), ('further', '15', 'or', '20', 'years'), ('15', 'or', '20', 'years', 'you'), ('or', '20', 'years', 'you', 'even'), ('20', 'years', 'you', 'even', 'have'), ('years', 'you', 'even', 'have', 'to'), ('you', 'even', 'have', 'to', 'wait'), ('even', 'have', 'to', 'wait', 'for'), ('have', 'to', 'wait', 'for', 'the'), ('to', 'wait', 'for', 'the', 'right'), ('wait', 'for', 'the', 'right', 'kind'), ('for', 'the', 'right', 'kind', 'of'), ('the', 'right', 'kind', 'of', 'summer'), ('right', 'kind', 'of', 'summer', 's'), ('kind', 'of', 'summer', 's', 'day'), ('of', 'summer', 's', 'day', 'to'), ('summer', 's', 'day', 'to', 'harvest'), ('s', 'day', 'to', 'harvest', 'cork'), ('day', 'to', 'harvest', 'cork', 'if'), ('to', 'harvest', 'cork', 'if', 'the'), ('harvest', 'cork', 'if', 'the', 'bark'), ('cork', 'if', 'the', 'bark', 'is'), ('if', 'the', 'bark', 'is', 'stripped'), ('the', 'bark', 'is', 'stripped', 'on'), ('bark', 'is', 'stripped', 'on', 'a'), ('is', 'stripped', 'on', 'a', 'day'), ('stripped', 'on', 'a', 'day', 'when'), ('on', 'a', 'day', 'when', 'it'), ('a', 'day', 'when', 'it', 's'), ('day', 'when', 'it', 's', 'too'), ('when', 'it', 's', 'too', 'cold'), ('it', 's', 'too', 'cold', 'or'), ('s', 'too', 'cold', 'or', 'when'), ('too', 'cold', 'or', 'when', 'the'), ('cold', 'or', 'when', 'the', 'air'), ('or', 'when', 'the', 'air', 'is'), ('when', 'the', 'air', 'is', 'damp'), ('the', 'air', 'is', 'damp', 'the'), ('air', 'is', 'damp', 'the', 'tree'), ('is', 'damp', 'the', 'tree', 'will'), ('damp', 'the', 'tree', 'will', 'be'), ('the', 'tree', 'will', 'be', 'damaged'), ('tree', 'will', 'be', 'damaged', '\\ncork'), ('will', 'be', 'damaged', '\\ncork', 'harvesting'), ('be', 'damaged', '\\ncork', 'harvesting', 'is'), ('damaged', '\\ncork', 'harvesting', 'is', 'a'), ('\\ncork', 'harvesting', 'is', 'a', 'very'), ('harvesting', 'is', 'a', 'very', 'specialised'), ('is', 'a', 'very', 'specialised', 'profession'), ('a', 'very', 'specialised', 'profession', 'no'), ('very', 'specialised', 'profession', 'no', 'mechanical'), ('specialised', 'profession', 'no', 'mechanical', 'means'), ('profession', 'no', 'mechanical', 'means', 'of'), ('no', 'mechanical', 'means', 'of', 'stripping'), ('mechanical', 'means', 'of', 'stripping', 'cork'), ('means', 'of', 'stripping', 'cork', 'bark'), ('of', 'stripping', 'cork', 'bark', 'has'), ('stripping', 'cork', 'bark', 'has', 'been'), ('cork', 'bark', 'has', 'been', 'invented'), ('bark', 'has', 'been', 'invented', 'so'), ('has', 'been', 'invented', 'so', 'the'), ('been', 'invented', 'so', 'the', 'job'), ('invented', 'so', 'the', 'job', 'is'), ('so', 'the', 'job', 'is', 'done'), ('the', 'job', 'is', 'done', 'by'), ('job', 'is', 'done', 'by', 'teams'), ('is', 'done', 'by', 'teams', 'of'), ('done', 'by', 'teams', 'of', 'highly'), ('by', 'teams', 'of', 'highly', 'skilled'), ('teams', 'of', 'highly', 'skilled', 'workers'), ('of', 'highly', 'skilled', 'workers', 'first'), ('highly', 'skilled', 'workers', 'first', 'they'), ('skilled', 'workers', 'first', 'they', 'make'), ('workers', 'first', 'they', 'make', 'vertical'), ('first', 'they', 'make', 'vertical', 'cuts'), ('they', 'make', 'vertical', 'cuts', 'down'), ('make', 'vertical', 'cuts', 'down', 'the'), ('vertical', 'cuts', 'down', 'the', 'bark'), ('cuts', 'down', 'the', 'bark', 'using'), ('down', 'the', 'bark', 'using', 'small'), ('the', 'bark', 'using', 'small', 'sharp'), ('bark', 'using', 'small', 'sharp', 'axes'), ('using', 'small', 'sharp', 'axes', 'then'), ('small', 'sharp', 'axes', 'then', 'lever'), ('sharp', 'axes', 'then', 'lever', 'it'), ('axes', 'then', 'lever', 'it', 'away'), ('then', 'lever', 'it', 'away', 'in'), ('lever', 'it', 'away', 'in', 'pieces'), ('it', 'away', 'in', 'pieces', 'as'), ('away', 'in', 'pieces', 'as', 'large'), ('in', 'pieces', 'as', 'large', 'as'), ('pieces', 'as', 'large', 'as', 'they'), ('as', 'large', 'as', 'they', 'can'), ('large', 'as', 'they', 'can', 'manage'), ('as', 'they', 'can', 'manage', 'the'), ('they', 'can', 'manage', 'the', 'most'), ('can', 'manage', 'the', 'most', 'skilful'), ('manage', 'the', 'most', 'skilful', 'cork'), ('the', 'most', 'skilful', 'cork', 'strippers'), ('most', 'skilful', 'cork', 'strippers', 'prise'), ('skilful', 'cork', 'strippers', 'prise', 'away'), ('cork', 'strippers', 'prise', 'away', 'a'), ('strippers', 'prise', 'away', 'a', 'semi'), ('prise', 'away', 'a', 'semi', 'circular'), ('away', 'a', 'semi', 'circular', 'husk'), ('a', 'semi', 'circular', 'husk', 'that'), ('semi', 'circular', 'husk', 'that', 'runs'), ('circular', 'husk', 'that', 'runs', 'the'), ('husk', 'that', 'runs', 'the', 'length'), ('that', 'runs', 'the', 'length', 'of'), ('runs', 'the', 'length', 'of', 'the'), ('the', 'length', 'of', 'the', 'trunk'), ('length', 'of', 'the', 'trunk', 'from'), ('of', 'the', 'trunk', 'from', 'just'), ('the', 'trunk', 'from', 'just', 'above'), ('trunk', 'from', 'just', 'above', 'ground'), ('from', 'just', 'above', 'ground', 'level'), ('just', 'above', 'ground', 'level', 'to'), ('above', 'ground', 'level', 'to', 'the'), ('ground', 'level', 'to', 'the', 'first'), ('level', 'to', 'the', 'first', 'branches'), ('to', 'the', 'first', 'branches', 'it'), ('the', 'first', 'branches', 'it', 'is'), ('first', 'branches', 'it', 'is', 'then'), ('branches', 'it', 'is', 'then', 'dried'), ('it', 'is', 'then', 'dried', 'on'), ('is', 'then', 'dried', 'on', 'the'), ('then', 'dried', 'on', 'the', 'ground'), ('dried', 'on', 'the', 'ground', 'for'), ('on', 'the', 'ground', 'for', 'about'), ('the', 'ground', 'for', 'about', 'four'), ('ground', 'for', 'about', 'four', 'months'), ('for', 'about', 'four', 'months', 'before'), ('about', 'four', 'months', 'before', 'being'), ('four', 'months', 'before', 'being', 'taken'), ('months', 'before', 'being', 'taken', 'to'), ('before', 'being', 'taken', 'to', 'factories'), ('being', 'taken', 'to', 'factories', 'where'), ('taken', 'to', 'factories', 'where', 'it'), ('to', 'factories', 'where', 'it', 'is'), ('factories', 'where', 'it', 'is', 'boiled'), ('where', 'it', 'is', 'boiled', 'to'), ('it', 'is', 'boiled', 'to', 'kill'), ('is', 'boiled', 'to', 'kill', 'any'), ('boiled', 'to', 'kill', 'any', 'insects'), ('to', 'kill', 'any', 'insects', 'that'), ('kill', 'any', 'insects', 'that', 'might'), ('any', 'insects', 'that', 'might', 'remain'), ('insects', 'that', 'might', 'remain', 'in'), ('that', 'might', 'remain', 'in', 'the'), ('might', 'remain', 'in', 'the', 'cork'), ('remain', 'in', 'the', 'cork', 'over'), ('in', 'the', 'cork', 'over', '60'), ('the', 'cork', 'over', '60', 'of'), ('cork', 'over', '60', 'of', 'cork'), ('over', '60', 'of', 'cork', 'then'), ('60', 'of', 'cork', 'then', 'goes'), ('of', 'cork', 'then', 'goes', 'on'), ('cork', 'then', 'goes', 'on', 'to'), ('then', 'goes', 'on', 'to', 'be'), ('goes', 'on', 'to', 'be', 'made'), ('on', 'to', 'be', 'made', 'into'), ('to', 'be', 'made', 'into', 'traditional'), ('be', 'made', 'into', 'traditional', 'bottle'), ('made', 'into', 'traditional', 'bottle', 'stoppers'), ('into', 'traditional', 'bottle', 'stoppers', 'with'), ('traditional', 'bottle', 'stoppers', 'with', 'most'), ('bottle', 'stoppers', 'with', 'most', 'of'), ('stoppers', 'with', 'most', 'of', 'the'), ('with', 'most', 'of', 'the', 'remainder'), ('most', 'of', 'the', 'remainder', 'being'), ('of', 'the', 'remainder', 'being', 'used'), ('the', 'remainder', 'being', 'used', 'in'), ('remainder', 'being', 'used', 'in', 'the'), ('being', 'used', 'in', 'the', 'construction'), ('used', 'in', 'the', 'construction', 'trade'), ('in', 'the', 'construction', 'trade', 'corkboard'), ('the', 'construction', 'trade', 'corkboard', 'and'), ('construction', 'trade', 'corkboard', 'and', 'cork'), ('trade', 'corkboard', 'and', 'cork', 'tiles'), ('corkboard', 'and', 'cork', 'tiles', 'are'), ('and', 'cork', 'tiles', 'are', 'ideal'), ('cork', 'tiles', 'are', 'ideal', 'for'), ('tiles', 'are', 'ideal', 'for', 'thermal'), ('are', 'ideal', 'for', 'thermal', 'and'), ('ideal', 'for', 'thermal', 'and', 'acoustic'), ('for', 'thermal', 'and', 'acoustic', 'insulation'), ('thermal', 'and', 'acoustic', 'insulation', 'while'), ('and', 'acoustic', 'insulation', 'while', 'granules'), ('acoustic', 'insulation', 'while', 'granules', 'of'), ('insulation', 'while', 'granules', 'of', 'cork'), ('while', 'granules', 'of', 'cork', 'are'), ('granules', 'of', 'cork', 'are', 'used'), ('of', 'cork', 'are', 'used', 'in'), ('cork', 'are', 'used', 'in', 'the'), ('are', 'used', 'in', 'the', 'manufacture'), ('used', 'in', 'the', 'manufacture', 'of'), ('in', 'the', 'manufacture', 'of', 'concrete'), ('the', 'manufacture', 'of', 'concrete', '\\nrecent'), ('manufacture', 'of', 'concrete', '\\nrecent', 'years'), ('of', 'concrete', '\\nrecent', 'years', 'have'), ('concrete', '\\nrecent', 'years', 'have', 'seen'), ('\\nrecent', 'years', 'have', 'seen', 'the'), ('years', 'have', 'seen', 'the', 'end'), ('have', 'seen', 'the', 'end', 'of'), ('seen', 'the', 'end', 'of', 'the'), ('the', 'end', 'of', 'the', 'virtual'), ('end', 'of', 'the', 'virtual', 'monopoly'), ('of', 'the', 'virtual', 'monopoly', 'of'), ('the', 'virtual', 'monopoly', 'of', 'cork'), ('virtual', 'monopoly', 'of', 'cork', 'as'), ('monopoly', 'of', 'cork', 'as', 'the'), ('of', 'cork', 'as', 'the', 'material'), ('cork', 'as', 'the', 'material', 'for'), ('as', 'the', 'material', 'for', 'bottle'), ('the', 'material', 'for', 'bottle', 'stoppers'), ('material', 'for', 'bottle', 'stoppers', 'due'), ('for', 'bottle', 'stoppers', 'due', 'to'), ('bottle', 'stoppers', 'due', 'to', 'concerns'), ('stoppers', 'due', 'to', 'concerns', 'about'), ('due', 'to', 'concerns', 'about', 'the'), ('to', 'concerns', 'about', 'the', 'effect'), ('concerns', 'about', 'the', 'effect', 'it'), ('about', 'the', 'effect', 'it', 'may'), ('the', 'effect', 'it', 'may', 'have'), ('effect', 'it', 'may', 'have', 'on'), ('it', 'may', 'have', 'on', 'the'), ('may', 'have', 'on', 'the', 'contents'), ('have', 'on', 'the', 'contents', 'of'), ('on', 'the', 'contents', 'of', 'the'), ('the', 'contents', 'of', 'the', 'bottle'), ('contents', 'of', 'the', 'bottle', 'this'), ('of', 'the', 'bottle', 'this', 'is'), ('the', 'bottle', 'this', 'is', 'caused'), ('bottle', 'this', 'is', 'caused', 'by'), ('this', 'is', 'caused', 'by', 'a'), ('is', 'caused', 'by', 'a', 'chemical'), ('caused', 'by', 'a', 'chemical', 'compound'), ('by', 'a', 'chemical', 'compound', 'called'), ('a', 'chemical', 'compound', 'called', '2'), ('chemical', 'compound', 'called', '2', '4'), ('compound', 'called', '2', '4', '6'), ('called', '2', '4', '6', 'trichloroanisole'), ('2', '4', '6', 'trichloroanisole', 'tca'), ('4', '6', 'trichloroanisole', 'tca', 'which'), ('6', 'trichloroanisole', 'tca', 'which', 'forms'), ('trichloroanisole', 'tca', 'which', 'forms', 'through'), ('tca', 'which', 'forms', 'through', 'the'), ('which', 'forms', 'through', 'the', 'interaction'), ('forms', 'through', 'the', 'interaction', 'of'), ('through', 'the', 'interaction', 'of', 'plant'), ('the', 'interaction', 'of', 'plant', 'phenols'), ('interaction', 'of', 'plant', 'phenols', 'chlorine'), ('of', 'plant', 'phenols', 'chlorine', 'and'), ('plant', 'phenols', 'chlorine', 'and', 'mould'), ('phenols', 'chlorine', 'and', 'mould', 'the'), ('chlorine', 'and', 'mould', 'the', 'tiniest'), ('and', 'mould', 'the', 'tiniest', 'concentrations'), ('mould', 'the', 'tiniest', 'concentrations', 'as'), ('the', 'tiniest', 'concentrations', 'as', 'little'), ('tiniest', 'concentrations', 'as', 'little', 'as'), ('concentrations', 'as', 'little', 'as', 'three'), ('as', 'little', 'as', 'three', 'or'), ('little', 'as', 'three', 'or', 'four'), ('as', 'three', 'or', 'four', 'parts'), ('three', 'or', 'four', 'parts', 'to'), ('or', 'four', 'parts', 'to', 'a'), ('four', 'parts', 'to', 'a', 'trillion'), ('parts', 'to', 'a', 'trillion', 'can'), ('to', 'a', 'trillion', 'can', 'spoil'), ('a', 'trillion', 'can', 'spoil', 'the'), ('trillion', 'can', 'spoil', 'the', 'taste'), ('can', 'spoil', 'the', 'taste', 'of'), ('spoil', 'the', 'taste', 'of', 'the'), ('the', 'taste', 'of', 'the', 'product'), ('taste', 'of', 'the', 'product', 'contained'), ('of', 'the', 'product', 'contained', 'in'), ('the', 'product', 'contained', 'in', 'the'), ('product', 'contained', 'in', 'the', 'bottle'), ('contained', 'in', 'the', 'bottle', 'the'), ('in', 'the', 'bottle', 'the', 'result'), ('the', 'bottle', 'the', 'result', 'has'), ('bottle', 'the', 'result', 'has', 'been'), ('the', 'result', 'has', 'been', 'a'), ('result', 'has', 'been', 'a', 'gradual'), ('has', 'been', 'a', 'gradual', 'yet'), ('been', 'a', 'gradual', 'yet', 'steady'), ('a', 'gradual', 'yet', 'steady', 'move'), ('gradual', 'yet', 'steady', 'move', 'first'), ('yet', 'steady', 'move', 'first', 'towards'), ('steady', 'move', 'first', 'towards', 'plastic'), ('move', 'first', 'towards', 'plastic', 'stoppers'), ('first', 'towards', 'plastic', 'stoppers', 'and'), ('towards', 'plastic', 'stoppers', 'and', 'more'), ('plastic', 'stoppers', 'and', 'more', 'recently'), ('stoppers', 'and', 'more', 'recently', 'to'), ('and', 'more', 'recently', 'to', 'aluminium'), ('more', 'recently', 'to', 'aluminium', 'screw'), ('recently', 'to', 'aluminium', 'screw', 'caps'), ('to', 'aluminium', 'screw', 'caps', 'these'), ('aluminium', 'screw', 'caps', 'these', 'substitutes'), ('screw', 'caps', 'these', 'substitutes', 'are'), ('caps', 'these', 'substitutes', 'are', 'cheaper'), ('these', 'substitutes', 'are', 'cheaper', 'to'), ('substitutes', 'are', 'cheaper', 'to', 'manufacture'), ('are', 'cheaper', 'to', 'manufacture', 'and'), ('cheaper', 'to', 'manufacture', 'and', 'in'), ('to', 'manufacture', 'and', 'in', 'the'), ('manufacture', 'and', 'in', 'the', 'case'), ('and', 'in', 'the', 'case', 'of'), ('in', 'the', 'case', 'of', 'screw'), ('the', 'case', 'of', 'screw', 'caps'), ('case', 'of', 'screw', 'caps', 'more'), ('of', 'screw', 'caps', 'more', 'convenient'), ('screw', 'caps', 'more', 'convenient', 'for'), ('caps', 'more', 'convenient', 'for', 'the'), ('more', 'convenient', 'for', 'the', 'user'), ('convenient', 'for', 'the', 'user', '\\nthe'), ('for', 'the', 'user', '\\nthe', 'classic'), ('the', 'user', '\\nthe', 'classic', 'cork'), ('user', '\\nthe', 'classic', 'cork', 'stopper'), ('\\nthe', 'classic', 'cork', 'stopper', 'does'), ('classic', 'cork', 'stopper', 'does', 'have'), ('cork', 'stopper', 'does', 'have', 'several'), ('stopper', 'does', 'have', 'several', 'advantages'), ('does', 'have', 'several', 'advantages', 'however'), ('have', 'several', 'advantages', 'however', 'firstly'), ('several', 'advantages', 'however', 'firstly', 'its'), ('advantages', 'however', 'firstly', 'its', 'traditional'), ('however', 'firstly', 'its', 'traditional', 'image'), ('firstly', 'its', 'traditional', 'image', 'is'), ('its', 'traditional', 'image', 'is', 'more'), ('traditional', 'image', 'is', 'more', 'in'), ('image', 'is', 'more', 'in', 'keeping'), ('is', 'more', 'in', 'keeping', 'with'), ('more', 'in', 'keeping', 'with', 'that'), ('in', 'keeping', 'with', 'that', 'of'), ('keeping', 'with', 'that', 'of', 'the'), ('with', 'that', 'of', 'the', 'type'), ('that', 'of', 'the', 'type', 'of'), ('of', 'the', 'type', 'of', 'high'), ('the', 'type', 'of', 'high', 'quality'), ('type', 'of', 'high', 'quality', 'goods'), ('of', 'high', 'quality', 'goods', 'with'), ('high', 'quality', 'goods', 'with', 'which'), ('quality', 'goods', 'with', 'which', 'it'), ('goods', 'with', 'which', 'it', 'has'), ('with', 'which', 'it', 'has', 'long'), ('which', 'it', 'has', 'long', 'been'), ('it', 'has', 'long', 'been', 'associated'), ('has', 'long', 'been', 'associated', 'secondly'), ('long', 'been', 'associated', 'secondly', 'and'), ('been', 'associated', 'secondly', 'and', 'very'), ('associated', 'secondly', 'and', 'very', 'importantly'), ('secondly', 'and', 'very', 'importantly', 'cork'), ('and', 'very', 'importantly', 'cork', 'is'), ('very', 'importantly', 'cork', 'is', 'a'), ('importantly', 'cork', 'is', 'a', 'sustainable'), ('cork', 'is', 'a', 'sustainable', 'product'), ('is', 'a', 'sustainable', 'product', 'that'), ('a', 'sustainable', 'product', 'that', 'can'), ('sustainable', 'product', 'that', 'can', 'be'), ('product', 'that', 'can', 'be', 'recycled'), ('that', 'can', 'be', 'recycled', 'without'), ('can', 'be', 'recycled', 'without', 'difficulty'), ('be', 'recycled', 'without', 'difficulty', 'moreover'), ('recycled', 'without', 'difficulty', 'moreover', 'cork'), ('without', 'difficulty', 'moreover', 'cork', 'forests'), ('difficulty', 'moreover', 'cork', 'forests', 'are'), ('moreover', 'cork', 'forests', 'are', 'a'), ('cork', 'forests', 'are', 'a', 'resource'), ('forests', 'are', 'a', 'resource', 'which'), ('are', 'a', 'resource', 'which', 'supports'), ('a', 'resource', 'which', 'supports', 'local'), ('resource', 'which', 'supports', 'local', 'biodiversity'), ('which', 'supports', 'local', 'biodiversity', 'and'), ('supports', 'local', 'biodiversity', 'and', 'prevents'), ('local', 'biodiversity', 'and', 'prevents', 'desertification'), ('biodiversity', 'and', 'prevents', 'desertification', 'in'), ('and', 'prevents', 'desertification', 'in', 'the'), ('prevents', 'desertification', 'in', 'the', 'regions'), ('desertification', 'in', 'the', 'regions', 'where'), ('in', 'the', 'regions', 'where', 'they'), ('the', 'regions', 'where', 'they', 'are'), ('regions', 'where', 'they', 'are', 'planted'), ('where', 'they', 'are', 'planted', 'so'), ('they', 'are', 'planted', 'so', 'given'), ('are', 'planted', 'so', 'given', 'the'), ('planted', 'so', 'given', 'the', 'current'), ('so', 'given', 'the', 'current', 'concerns'), ('given', 'the', 'current', 'concerns', 'about'), ('the', 'current', 'concerns', 'about', 'environmental'), ('current', 'concerns', 'about', 'environmental', 'issues'), ('concerns', 'about', 'environmental', 'issues', 'the'), ('about', 'environmental', 'issues', 'the', 'future'), ('environmental', 'issues', 'the', 'future', 'of'), ('issues', 'the', 'future', 'of', 'this'), ('the', 'future', 'of', 'this', 'ancient'), ('future', 'of', 'this', 'ancient', 'material'), ('of', 'this', 'ancient', 'material', 'once'), ('this', 'ancient', 'material', 'once', 'again'), ('ancient', 'material', 'once', 'again', 'looks'), ('material', 'once', 'again', 'looks', 'promising')]\n"
     ]
    }
   ],
   "source": [
    "# import re\n",
    "# from nltk.util import ngrams\n",
    "\n",
    "# exemple = exemple.lower()\n",
    "# exemple = re.sub(r'[^a-zA-Z0-9\\s]', ' ', exemple)\n",
    "# tokens = [token for token in exemple.split(\" \") if token != \"\"]\n",
    "# output = list(ngrams(tokens, 5))\n",
    "# print(output)"
   ]
  },
  {
   "cell_type": "markdown",
   "id": "c99154d8-1c84-4312-ab4a-d9771ffa87cf",
   "metadata": {},
   "source": [
    "Документация на используемые библиотеки:\n",
    "spaCy - https://spacy.io/usage/linguistic-features\n",
    "улучшить spaCy: https://github.com/huggingface/neuralcoref\n",
    "textacy - https://textacy.readthedocs.io/en/0.12.0/api_reference/extract.html#textacy.extract.triples.semistructured_statements"
   ]
  },
  {
   "cell_type": "code",
   "execution_count": null,
   "id": "aba7652c-d7c5-4a30-bc46-e78993d75820",
   "metadata": {},
   "outputs": [],
   "source": []
  }
 ],
 "metadata": {
  "kernelspec": {
   "display_name": "Python 3 (ipykernel)",
   "language": "python",
   "name": "python3"
  },
  "language_info": {
   "codemirror_mode": {
    "name": "ipython",
    "version": 3
   },
   "file_extension": ".py",
   "mimetype": "text/x-python",
   "name": "python",
   "nbconvert_exporter": "python",
   "pygments_lexer": "ipython3",
   "version": "3.9.7"
  }
 },
 "nbformat": 4,
 "nbformat_minor": 5
}
